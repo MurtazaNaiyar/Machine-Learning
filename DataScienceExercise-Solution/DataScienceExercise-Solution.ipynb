{
 "cells": [
  {
   "cell_type": "markdown",
   "id": "0a4253dc",
   "metadata": {},
   "source": [
    "# Solution Approach\n",
    "   ## 1. Data Exploration\n",
    "   ### Understanding the data in detail and check for the Missing Values, Distribution of Each feature, Understanding how many unique values are there for each feaure at a sample level.\n",
    "   \n",
    "   ## 2. Data Wrangling\n",
    "   ### Post data analysis, removed some of the features and created few new features. Also kept he dat aggregated at sample level records.\n",
    "   \n",
    "   ## 3. Feature Extraction\n",
    "   ### Based on the understanding of data, Developed new features out of existing features.\n",
    "   \n",
    "   ## 4. Preprocessing\n",
    "   ### Converted the categorical features to numerical data using one hot encoding.\n",
    "   \n",
    "   ## 5. Modelling\n",
    "   ### Developed Classification models to predeict weather a perfume would be rated good or bad , given the features involved in manufacturing the perfume.\n",
    "   ### Models Developed\n",
    "   - 1. Logistic Regression\n",
    "   - 2. Random Forest\n",
    "   - 3. GBM\n",
    "   \n",
    "## 6. Model Evaluation.\n",
    "### Evaluated the model based on F-1 Score, Considering the unbalanced set of data. "
   ]
  },
  {
   "cell_type": "code",
   "execution_count": 1,
   "id": "ad633ae9",
   "metadata": {},
   "outputs": [],
   "source": [
    "import os\n",
    "import sys\n",
    "import numpy as np\n",
    "%matplotlib inline\n",
    "import pandas as pd\n",
    "import seaborn as sns\n",
    "from numpy import std\n",
    "from numpy import mean\n",
    "import matplotlib.pyplot as plt\n",
    "import matplotlib.ticker as mtick\n",
    "from matplotlib.lines import Line2D\n",
    "from matplotlib.patches import Patch\n",
    "from sklearn.metrics import roc_curve\n",
    "from sklearn.metrics import roc_auc_score\n",
    "from sklearn.metrics import accuracy_score\n",
    "from sklearn.datasets import make_hastie_10_2\n",
    "from sklearn.preprocessing import LabelEncoder\n",
    "from sklearn.preprocessing import OneHotEncoder\n",
    "pd.pandas.set_option('display.max_columns',None)\n",
    "from sklearn.linear_model import LogisticRegression\n",
    "from sklearn.model_selection import train_test_split\n",
    "from sklearn.ensemble import GradientBoostingClassifier\n",
    "from sklearn.inspection import PartialDependenceDisplay\n",
    "from sklearn.ensemble import RandomForestClassifier, GradientBoostingClassifier"
   ]
  },
  {
   "cell_type": "code",
   "execution_count": 2,
   "id": "69db0856",
   "metadata": {},
   "outputs": [],
   "source": [
    "dataset=pd.read_csv('assessment_dataset.csv')"
   ]
  },
  {
   "cell_type": "code",
   "execution_count": 3,
   "id": "e129a981",
   "metadata": {},
   "outputs": [
    {
     "data": {
      "text/plain": [
       "(9274, 9)"
      ]
     },
     "execution_count": 3,
     "metadata": {},
     "output_type": "execute_result"
    }
   ],
   "source": [
    "dataset.shape"
   ]
  },
  {
   "cell_type": "code",
   "execution_count": 4,
   "id": "68673512",
   "metadata": {},
   "outputs": [
    {
     "data": {
      "text/html": [
       "<div>\n",
       "<style scoped>\n",
       "    .dataframe tbody tr th:only-of-type {\n",
       "        vertical-align: middle;\n",
       "    }\n",
       "\n",
       "    .dataframe tbody tr th {\n",
       "        vertical-align: top;\n",
       "    }\n",
       "\n",
       "    .dataframe thead th {\n",
       "        text-align: right;\n",
       "    }\n",
       "</style>\n",
       "<table border=\"1\" class=\"dataframe\">\n",
       "  <thead>\n",
       "    <tr style=\"text-align: right;\">\n",
       "      <th></th>\n",
       "      <th>sample_id</th>\n",
       "      <th>ingredient_id</th>\n",
       "      <th>perfume_base</th>\n",
       "      <th>fragrance</th>\n",
       "      <th>manufacture_plant</th>\n",
       "      <th>rating</th>\n",
       "      <th>manufacture_date</th>\n",
       "      <th>ingredient_type</th>\n",
       "      <th>ingredient</th>\n",
       "    </tr>\n",
       "  </thead>\n",
       "  <tbody>\n",
       "    <tr>\n",
       "      <th>0</th>\n",
       "      <td>B/453642/0</td>\n",
       "      <td>B/10195862</td>\n",
       "      <td>ALCOHOL</td>\n",
       "      <td>FLORAL</td>\n",
       "      <td>B</td>\n",
       "      <td>0</td>\n",
       "      <td>28/02/2021 7:11</td>\n",
       "      <td>SOLVENT</td>\n",
       "      <td>PUC</td>\n",
       "    </tr>\n",
       "    <tr>\n",
       "      <th>1</th>\n",
       "      <td>B/453642/0</td>\n",
       "      <td>B/10195861</td>\n",
       "      <td>ALCOHOL</td>\n",
       "      <td>FLORAL</td>\n",
       "      <td>B</td>\n",
       "      <td>0</td>\n",
       "      <td>28/02/2021 7:11</td>\n",
       "      <td>SOLVENT</td>\n",
       "      <td>BLF</td>\n",
       "    </tr>\n",
       "    <tr>\n",
       "      <th>2</th>\n",
       "      <td>B/453642/0</td>\n",
       "      <td>B/10195859</td>\n",
       "      <td>ALCOHOL</td>\n",
       "      <td>FLORAL</td>\n",
       "      <td>B</td>\n",
       "      <td>0</td>\n",
       "      <td>28/02/2021 7:11</td>\n",
       "      <td>SOLVENT</td>\n",
       "      <td>SVP</td>\n",
       "    </tr>\n",
       "    <tr>\n",
       "      <th>3</th>\n",
       "      <td>B/453642/0</td>\n",
       "      <td>B/10195857</td>\n",
       "      <td>ALCOHOL</td>\n",
       "      <td>FLORAL</td>\n",
       "      <td>B</td>\n",
       "      <td>0</td>\n",
       "      <td>28/02/2021 7:11</td>\n",
       "      <td>SOLVENT</td>\n",
       "      <td>AGH</td>\n",
       "    </tr>\n",
       "    <tr>\n",
       "      <th>4</th>\n",
       "      <td>B/453642/0</td>\n",
       "      <td>B/10195856</td>\n",
       "      <td>ALCOHOL</td>\n",
       "      <td>FLORAL</td>\n",
       "      <td>B</td>\n",
       "      <td>0</td>\n",
       "      <td>28/02/2021 7:11</td>\n",
       "      <td>SOLVENT</td>\n",
       "      <td>OTH</td>\n",
       "    </tr>\n",
       "  </tbody>\n",
       "</table>\n",
       "</div>"
      ],
      "text/plain": [
       "    sample_id ingredient_id perfume_base fragrance manufacture_plant  rating  \\\n",
       "0  B/453642/0    B/10195862      ALCOHOL    FLORAL                 B       0   \n",
       "1  B/453642/0    B/10195861      ALCOHOL    FLORAL                 B       0   \n",
       "2  B/453642/0    B/10195859      ALCOHOL    FLORAL                 B       0   \n",
       "3  B/453642/0    B/10195857      ALCOHOL    FLORAL                 B       0   \n",
       "4  B/453642/0    B/10195856      ALCOHOL    FLORAL                 B       0   \n",
       "\n",
       "  manufacture_date ingredient_type ingredient  \n",
       "0  28/02/2021 7:11         SOLVENT        PUC  \n",
       "1  28/02/2021 7:11         SOLVENT        BLF  \n",
       "2  28/02/2021 7:11         SOLVENT        SVP  \n",
       "3  28/02/2021 7:11         SOLVENT        AGH  \n",
       "4  28/02/2021 7:11         SOLVENT        OTH  "
      ]
     },
     "execution_count": 4,
     "metadata": {},
     "output_type": "execute_result"
    }
   ],
   "source": [
    "dataset.head()"
   ]
  },
  {
   "cell_type": "markdown",
   "id": "b28e457a",
   "metadata": {},
   "source": [
    "## Data Description\n",
    "1. sample_id: Unique sample ID of the perfume. 808 samples reviewed by customers are present in this dataset.\n",
    "2. ingredient_id: Each sample has been manufactured using a set of ingredients. This field contains the unique ID of the\n",
    "ingredient used.\n",
    "3. perfume_base: Each perfume sample has a “base”. The base could be (i) alcohol, (ii) oil, or (iii) water base.\n",
    "4. fragrance: Each perfume sample has a “fragrance type”. The fragrance type could be (i) floral, (ii) fresh, (iii) oriental, or\n",
    "(iv) woody.\n",
    "5. manufacture_plant: The plant where the sample was manufactured from (A or B).\n",
    "6. rating: Binary field which indicates if the sample was reviewed positively (1) or negatively (0).\n",
    "7. manufacture_date: Date of manufacture and review of the sample.\n",
    "8. ingredient_type: Each ingredient has a “type”. The ingredient type could be (i) aroma, (ii) solvent, or (iii) fixative.\n",
    "9. ingredient: Ingredient codes, which are used in place of the actual ingredient names to protect the secret formulas of\n",
    "Mr. Ali’s perfumes."
   ]
  },
  {
   "cell_type": "code",
   "execution_count": 5,
   "id": "466875d0",
   "metadata": {},
   "outputs": [
    {
     "name": "stdout",
     "output_type": "stream",
     "text": [
      "<class 'pandas.core.frame.DataFrame'>\n",
      "RangeIndex: 9274 entries, 0 to 9273\n",
      "Data columns (total 9 columns):\n",
      " #   Column             Non-Null Count  Dtype \n",
      "---  ------             --------------  ----- \n",
      " 0   sample_id          9274 non-null   object\n",
      " 1   ingredient_id      9274 non-null   object\n",
      " 2   perfume_base       9274 non-null   object\n",
      " 3   fragrance          9274 non-null   object\n",
      " 4   manufacture_plant  9274 non-null   object\n",
      " 5   rating             9274 non-null   int64 \n",
      " 6   manufacture_date   9274 non-null   object\n",
      " 7   ingredient_type    9274 non-null   object\n",
      " 8   ingredient         9274 non-null   object\n",
      "dtypes: int64(1), object(8)\n",
      "memory usage: 652.2+ KB\n"
     ]
    }
   ],
   "source": [
    "dataset.info()"
   ]
  },
  {
   "cell_type": "markdown",
   "id": "1825c554",
   "metadata": {},
   "source": [
    "## There is no Missing Values for any of the feature."
   ]
  },
  {
   "cell_type": "markdown",
   "id": "cd94b279",
   "metadata": {},
   "source": [
    "### Unique Categories for Each Features."
   ]
  },
  {
   "cell_type": "code",
   "execution_count": 6,
   "id": "d3a1daf6",
   "metadata": {},
   "outputs": [
    {
     "name": "stdout",
     "output_type": "stream",
     "text": [
      "Shape of data is (9274, 9)\n",
      "------------------------------------------------------------\n",
      "The feature is :: sample_id and number of unique categories are :: 808\n",
      "The feature is :: ingredient_id and number of unique categories are :: 9239\n",
      "The feature is :: perfume_base and number of unique categories are :: 3\n",
      "The feature is :: fragrance and number of unique categories are :: 4\n",
      "The feature is :: manufacture_plant and number of unique categories are :: 2\n",
      "The feature is :: rating and number of unique categories are :: 2\n",
      "The feature is :: manufacture_date and number of unique categories are :: 781\n",
      "The feature is :: ingredient_type and number of unique categories are :: 3\n",
      "The feature is :: ingredient and number of unique categories are :: 63\n"
     ]
    }
   ],
   "source": [
    "print(f\"Shape of data is {dataset.shape}\")\n",
    "print(\"------------------------------------------------------------\")\n",
    "for feature in dataset.columns:\n",
    "    print('The feature is :: {} and number of unique categories are :: {}'.format(feature,dataset[feature].nunique()))"
   ]
  },
  {
   "cell_type": "markdown",
   "id": "da63d28d",
   "metadata": {},
   "source": [
    "## Data Exploration"
   ]
  },
  {
   "cell_type": "markdown",
   "id": "65bdca35",
   "metadata": {},
   "source": [
    "### Unique Values for Each Feature."
   ]
  },
  {
   "cell_type": "code",
   "execution_count": 7,
   "id": "6f83c8ed",
   "metadata": {},
   "outputs": [
    {
     "name": "stdout",
     "output_type": "stream",
     "text": [
      "Shape of data is (9274, 9)\n",
      "-----------------------------------------------------------------------\n",
      "The feature is :: sample_id and count of unique categories are :: \n",
      "A/726435/1    24\n",
      "A/658705/1    20\n",
      "A/725767/1    20\n",
      "A/262225/0    18\n",
      "B/423800/0    17\n",
      "              ..\n",
      "A/388740/0     2\n",
      "B/354605/0     2\n",
      "A/355131/0     2\n",
      "A/883604/1     1\n",
      "A/415473/0     1\n",
      "Name: sample_id, Length: 808, dtype: int64\n",
      "------------------------------------------------------------------\n",
      "The feature is :: ingredient_id and count of unique categories are :: \n",
      "A/9493480    3\n",
      "A/9493488    3\n",
      "A/9493482    3\n",
      "A/9493481    3\n",
      "A/9493483    3\n",
      "            ..\n",
      "B/9123705    1\n",
      "B/9106460    1\n",
      "B/9106459    1\n",
      "B/9106458    1\n",
      "A/6917199    1\n",
      "Name: ingredient_id, Length: 9239, dtype: int64\n",
      "------------------------------------------------------------------\n",
      "The feature is :: perfume_base and count of unique categories are :: \n",
      "OIL        4564\n",
      "ALCOHOL    3684\n",
      "WATER      1026\n",
      "Name: perfume_base, dtype: int64\n",
      "------------------------------------------------------------------\n",
      "The feature is :: fragrance and count of unique categories are :: \n",
      "FLORAL      4363\n",
      "FRESH       2523\n",
      "ORIENTAL    1958\n",
      "WOODY        430\n",
      "Name: fragrance, dtype: int64\n",
      "------------------------------------------------------------------\n",
      "The feature is :: manufacture_plant and count of unique categories are :: \n",
      "B    7468\n",
      "A    1806\n",
      "Name: manufacture_plant, dtype: int64\n",
      "------------------------------------------------------------------\n",
      "The feature is :: rating and count of unique categories are :: \n",
      "0    9040\n",
      "1     234\n",
      "Name: rating, dtype: int64\n",
      "------------------------------------------------------------------\n",
      "The feature is :: manufacture_date and count of unique categories are :: \n",
      "14/07/2020 19:19    45\n",
      "05/11/2020 16:41    32\n",
      "11/03/2020 18:29    32\n",
      "06/07/2020 18:37    30\n",
      "11/07/2020 11:30    30\n",
      "                    ..\n",
      "25/09/2020 8:45      2\n",
      "18/12/2020 15:44     2\n",
      "31/12/2020 5:35      2\n",
      "09/02/2021 12:11     1\n",
      "31/12/2020 5:52      1\n",
      "Name: manufacture_date, Length: 781, dtype: int64\n",
      "------------------------------------------------------------------\n",
      "The feature is :: ingredient_type and count of unique categories are :: \n",
      "SOLVENT     4009\n",
      "FIXATIVE    3846\n",
      "AROMA       1419\n",
      "Name: ingredient_type, dtype: int64\n",
      "------------------------------------------------------------------\n",
      "The feature is :: ingredient and count of unique categories are :: \n",
      "OTH    714\n",
      "OFR    696\n",
      "SVP    658\n",
      "BLF    641\n",
      "DOF    544\n",
      "      ... \n",
      "AFU      1\n",
      "APU      1\n",
      "REP      1\n",
      "APA      1\n",
      "AES      1\n",
      "Name: ingredient, Length: 63, dtype: int64\n",
      "------------------------------------------------------------------\n"
     ]
    }
   ],
   "source": [
    "print(f\"Shape of data is {dataset.shape}\")\n",
    "print(\"-----------------------------------------------------------------------\")\n",
    "for feature in dataset.columns:\n",
    "    print('The feature is :: {} and count of unique categories are :: \\n{}'.format(feature,dataset[feature].value_counts()))\n",
    "    print(\"------------------------------------------------------------------\")"
   ]
  },
  {
   "cell_type": "markdown",
   "id": "ba4307c7",
   "metadata": {},
   "source": [
    "### How many unique values are there for each sample "
   ]
  },
  {
   "cell_type": "code",
   "execution_count": 8,
   "id": "148db635",
   "metadata": {},
   "outputs": [
    {
     "data": {
      "text/html": [
       "<div>\n",
       "<style scoped>\n",
       "    .dataframe tbody tr th:only-of-type {\n",
       "        vertical-align: middle;\n",
       "    }\n",
       "\n",
       "    .dataframe tbody tr th {\n",
       "        vertical-align: top;\n",
       "    }\n",
       "\n",
       "    .dataframe thead th {\n",
       "        text-align: right;\n",
       "    }\n",
       "</style>\n",
       "<table border=\"1\" class=\"dataframe\">\n",
       "  <thead>\n",
       "    <tr style=\"text-align: right;\">\n",
       "      <th></th>\n",
       "      <th>manufacture_plant</th>\n",
       "    </tr>\n",
       "    <tr>\n",
       "      <th>sample_id</th>\n",
       "      <th></th>\n",
       "    </tr>\n",
       "  </thead>\n",
       "  <tbody>\n",
       "    <tr>\n",
       "      <th>A/260615/0</th>\n",
       "      <td>1</td>\n",
       "    </tr>\n",
       "    <tr>\n",
       "      <th>B/381521/0</th>\n",
       "      <td>1</td>\n",
       "    </tr>\n",
       "    <tr>\n",
       "      <th>B/379630/0</th>\n",
       "      <td>1</td>\n",
       "    </tr>\n",
       "    <tr>\n",
       "      <th>B/379673/0</th>\n",
       "      <td>1</td>\n",
       "    </tr>\n",
       "    <tr>\n",
       "      <th>B/380311/0</th>\n",
       "      <td>1</td>\n",
       "    </tr>\n",
       "    <tr>\n",
       "      <th>...</th>\n",
       "      <td>...</td>\n",
       "    </tr>\n",
       "    <tr>\n",
       "      <th>B/312577/0</th>\n",
       "      <td>1</td>\n",
       "    </tr>\n",
       "    <tr>\n",
       "      <th>B/312932/0</th>\n",
       "      <td>1</td>\n",
       "    </tr>\n",
       "    <tr>\n",
       "      <th>B/313542/0</th>\n",
       "      <td>1</td>\n",
       "    </tr>\n",
       "    <tr>\n",
       "      <th>B/314016/0</th>\n",
       "      <td>1</td>\n",
       "    </tr>\n",
       "    <tr>\n",
       "      <th>B/453642/0</th>\n",
       "      <td>1</td>\n",
       "    </tr>\n",
       "  </tbody>\n",
       "</table>\n",
       "<p>808 rows × 1 columns</p>\n",
       "</div>"
      ],
      "text/plain": [
       "            manufacture_plant\n",
       "sample_id                    \n",
       "A/260615/0                  1\n",
       "B/381521/0                  1\n",
       "B/379630/0                  1\n",
       "B/379673/0                  1\n",
       "B/380311/0                  1\n",
       "...                       ...\n",
       "B/312577/0                  1\n",
       "B/312932/0                  1\n",
       "B/313542/0                  1\n",
       "B/314016/0                  1\n",
       "B/453642/0                  1\n",
       "\n",
       "[808 rows x 1 columns]"
      ]
     },
     "execution_count": 8,
     "metadata": {},
     "output_type": "execute_result"
    }
   ],
   "source": [
    "dataset.groupby('sample_id').manufacture_plant.nunique().to_frame().sort_values('manufacture_plant', ascending=False)"
   ]
  },
  {
   "cell_type": "code",
   "execution_count": 9,
   "id": "46a385c5",
   "metadata": {},
   "outputs": [
    {
     "data": {
      "text/html": [
       "<div>\n",
       "<style scoped>\n",
       "    .dataframe tbody tr th:only-of-type {\n",
       "        vertical-align: middle;\n",
       "    }\n",
       "\n",
       "    .dataframe tbody tr th {\n",
       "        vertical-align: top;\n",
       "    }\n",
       "\n",
       "    .dataframe thead th {\n",
       "        text-align: right;\n",
       "    }\n",
       "</style>\n",
       "<table border=\"1\" class=\"dataframe\">\n",
       "  <thead>\n",
       "    <tr style=\"text-align: right;\">\n",
       "      <th></th>\n",
       "      <th>manufacture_plant</th>\n",
       "    </tr>\n",
       "    <tr>\n",
       "      <th>ingredient_id</th>\n",
       "      <th></th>\n",
       "    </tr>\n",
       "  </thead>\n",
       "  <tbody>\n",
       "    <tr>\n",
       "      <th>A/10067479</th>\n",
       "      <td>1</td>\n",
       "    </tr>\n",
       "    <tr>\n",
       "      <th>B/8799347</th>\n",
       "      <td>1</td>\n",
       "    </tr>\n",
       "    <tr>\n",
       "      <th>B/8826869</th>\n",
       "      <td>1</td>\n",
       "    </tr>\n",
       "    <tr>\n",
       "      <th>B/8826873</th>\n",
       "      <td>1</td>\n",
       "    </tr>\n",
       "    <tr>\n",
       "      <th>B/8826876</th>\n",
       "      <td>1</td>\n",
       "    </tr>\n",
       "    <tr>\n",
       "      <th>...</th>\n",
       "      <td>...</td>\n",
       "    </tr>\n",
       "    <tr>\n",
       "      <th>B/7641195</th>\n",
       "      <td>1</td>\n",
       "    </tr>\n",
       "    <tr>\n",
       "      <th>B/7641196</th>\n",
       "      <td>1</td>\n",
       "    </tr>\n",
       "    <tr>\n",
       "      <th>B/7641245</th>\n",
       "      <td>1</td>\n",
       "    </tr>\n",
       "    <tr>\n",
       "      <th>B/7641246</th>\n",
       "      <td>1</td>\n",
       "    </tr>\n",
       "    <tr>\n",
       "      <th>B/9995572</th>\n",
       "      <td>1</td>\n",
       "    </tr>\n",
       "  </tbody>\n",
       "</table>\n",
       "<p>9239 rows × 1 columns</p>\n",
       "</div>"
      ],
      "text/plain": [
       "               manufacture_plant\n",
       "ingredient_id                   \n",
       "A/10067479                     1\n",
       "B/8799347                      1\n",
       "B/8826869                      1\n",
       "B/8826873                      1\n",
       "B/8826876                      1\n",
       "...                          ...\n",
       "B/7641195                      1\n",
       "B/7641196                      1\n",
       "B/7641245                      1\n",
       "B/7641246                      1\n",
       "B/9995572                      1\n",
       "\n",
       "[9239 rows x 1 columns]"
      ]
     },
     "execution_count": 9,
     "metadata": {},
     "output_type": "execute_result"
    }
   ],
   "source": [
    "dataset.groupby('ingredient_id').manufacture_plant.nunique().to_frame().sort_values('manufacture_plant', ascending=False)"
   ]
  },
  {
   "cell_type": "code",
   "execution_count": 10,
   "id": "907d0e2a",
   "metadata": {},
   "outputs": [
    {
     "data": {
      "text/html": [
       "<div>\n",
       "<style scoped>\n",
       "    .dataframe tbody tr th:only-of-type {\n",
       "        vertical-align: middle;\n",
       "    }\n",
       "\n",
       "    .dataframe tbody tr th {\n",
       "        vertical-align: top;\n",
       "    }\n",
       "\n",
       "    .dataframe thead th {\n",
       "        text-align: right;\n",
       "    }\n",
       "</style>\n",
       "<table border=\"1\" class=\"dataframe\">\n",
       "  <thead>\n",
       "    <tr style=\"text-align: right;\">\n",
       "      <th></th>\n",
       "      <th>manufacture_date</th>\n",
       "    </tr>\n",
       "    <tr>\n",
       "      <th>ingredient_id</th>\n",
       "      <th></th>\n",
       "    </tr>\n",
       "  </thead>\n",
       "  <tbody>\n",
       "    <tr>\n",
       "      <th>A/10067479</th>\n",
       "      <td>1</td>\n",
       "    </tr>\n",
       "    <tr>\n",
       "      <th>B/8799347</th>\n",
       "      <td>1</td>\n",
       "    </tr>\n",
       "    <tr>\n",
       "      <th>B/8826869</th>\n",
       "      <td>1</td>\n",
       "    </tr>\n",
       "    <tr>\n",
       "      <th>B/8826873</th>\n",
       "      <td>1</td>\n",
       "    </tr>\n",
       "    <tr>\n",
       "      <th>B/8826876</th>\n",
       "      <td>1</td>\n",
       "    </tr>\n",
       "    <tr>\n",
       "      <th>...</th>\n",
       "      <td>...</td>\n",
       "    </tr>\n",
       "    <tr>\n",
       "      <th>B/7641195</th>\n",
       "      <td>1</td>\n",
       "    </tr>\n",
       "    <tr>\n",
       "      <th>B/7641196</th>\n",
       "      <td>1</td>\n",
       "    </tr>\n",
       "    <tr>\n",
       "      <th>B/7641245</th>\n",
       "      <td>1</td>\n",
       "    </tr>\n",
       "    <tr>\n",
       "      <th>B/7641246</th>\n",
       "      <td>1</td>\n",
       "    </tr>\n",
       "    <tr>\n",
       "      <th>B/9995572</th>\n",
       "      <td>1</td>\n",
       "    </tr>\n",
       "  </tbody>\n",
       "</table>\n",
       "<p>9239 rows × 1 columns</p>\n",
       "</div>"
      ],
      "text/plain": [
       "               manufacture_date\n",
       "ingredient_id                  \n",
       "A/10067479                    1\n",
       "B/8799347                     1\n",
       "B/8826869                     1\n",
       "B/8826873                     1\n",
       "B/8826876                     1\n",
       "...                         ...\n",
       "B/7641195                     1\n",
       "B/7641196                     1\n",
       "B/7641245                     1\n",
       "B/7641246                     1\n",
       "B/9995572                     1\n",
       "\n",
       "[9239 rows x 1 columns]"
      ]
     },
     "execution_count": 10,
     "metadata": {},
     "output_type": "execute_result"
    }
   ],
   "source": [
    "dataset.groupby('ingredient_id').manufacture_date.nunique().to_frame().sort_values('manufacture_date', ascending=False)"
   ]
  },
  {
   "cell_type": "code",
   "execution_count": 11,
   "id": "0a2730d9",
   "metadata": {},
   "outputs": [
    {
     "data": {
      "text/html": [
       "<div>\n",
       "<style scoped>\n",
       "    .dataframe tbody tr th:only-of-type {\n",
       "        vertical-align: middle;\n",
       "    }\n",
       "\n",
       "    .dataframe tbody tr th {\n",
       "        vertical-align: top;\n",
       "    }\n",
       "\n",
       "    .dataframe thead th {\n",
       "        text-align: right;\n",
       "    }\n",
       "</style>\n",
       "<table border=\"1\" class=\"dataframe\">\n",
       "  <thead>\n",
       "    <tr style=\"text-align: right;\">\n",
       "      <th></th>\n",
       "      <th>manufacture_date</th>\n",
       "    </tr>\n",
       "    <tr>\n",
       "      <th>sample_id</th>\n",
       "      <th></th>\n",
       "    </tr>\n",
       "  </thead>\n",
       "  <tbody>\n",
       "    <tr>\n",
       "      <th>A/260615/0</th>\n",
       "      <td>1</td>\n",
       "    </tr>\n",
       "    <tr>\n",
       "      <th>B/381521/0</th>\n",
       "      <td>1</td>\n",
       "    </tr>\n",
       "    <tr>\n",
       "      <th>B/379630/0</th>\n",
       "      <td>1</td>\n",
       "    </tr>\n",
       "    <tr>\n",
       "      <th>B/379673/0</th>\n",
       "      <td>1</td>\n",
       "    </tr>\n",
       "    <tr>\n",
       "      <th>B/380311/0</th>\n",
       "      <td>1</td>\n",
       "    </tr>\n",
       "    <tr>\n",
       "      <th>...</th>\n",
       "      <td>...</td>\n",
       "    </tr>\n",
       "    <tr>\n",
       "      <th>B/312577/0</th>\n",
       "      <td>1</td>\n",
       "    </tr>\n",
       "    <tr>\n",
       "      <th>B/312932/0</th>\n",
       "      <td>1</td>\n",
       "    </tr>\n",
       "    <tr>\n",
       "      <th>B/313542/0</th>\n",
       "      <td>1</td>\n",
       "    </tr>\n",
       "    <tr>\n",
       "      <th>B/314016/0</th>\n",
       "      <td>1</td>\n",
       "    </tr>\n",
       "    <tr>\n",
       "      <th>B/453642/0</th>\n",
       "      <td>1</td>\n",
       "    </tr>\n",
       "  </tbody>\n",
       "</table>\n",
       "<p>808 rows × 1 columns</p>\n",
       "</div>"
      ],
      "text/plain": [
       "            manufacture_date\n",
       "sample_id                   \n",
       "A/260615/0                 1\n",
       "B/381521/0                 1\n",
       "B/379630/0                 1\n",
       "B/379673/0                 1\n",
       "B/380311/0                 1\n",
       "...                      ...\n",
       "B/312577/0                 1\n",
       "B/312932/0                 1\n",
       "B/313542/0                 1\n",
       "B/314016/0                 1\n",
       "B/453642/0                 1\n",
       "\n",
       "[808 rows x 1 columns]"
      ]
     },
     "execution_count": 11,
     "metadata": {},
     "output_type": "execute_result"
    }
   ],
   "source": [
    "dataset.groupby('sample_id').manufacture_date.nunique().to_frame().sort_values('manufacture_date', ascending=False)"
   ]
  },
  {
   "cell_type": "code",
   "execution_count": 12,
   "id": "e936d44e",
   "metadata": {},
   "outputs": [
    {
     "data": {
      "text/plain": [
       "manufacture_date    781\n",
       "dtype: int64"
      ]
     },
     "execution_count": 12,
     "metadata": {},
     "output_type": "execute_result"
    }
   ],
   "source": [
    "dataset[['manufacture_date']].drop_duplicates().count()"
   ]
  },
  {
   "cell_type": "code",
   "execution_count": 13,
   "id": "71ddfbb5",
   "metadata": {},
   "outputs": [
    {
     "data": {
      "text/html": [
       "<div>\n",
       "<style scoped>\n",
       "    .dataframe tbody tr th:only-of-type {\n",
       "        vertical-align: middle;\n",
       "    }\n",
       "\n",
       "    .dataframe tbody tr th {\n",
       "        vertical-align: top;\n",
       "    }\n",
       "\n",
       "    .dataframe thead th {\n",
       "        text-align: right;\n",
       "    }\n",
       "</style>\n",
       "<table border=\"1\" class=\"dataframe\">\n",
       "  <thead>\n",
       "    <tr style=\"text-align: right;\">\n",
       "      <th></th>\n",
       "      <th>rating</th>\n",
       "    </tr>\n",
       "    <tr>\n",
       "      <th>sample_id</th>\n",
       "      <th></th>\n",
       "    </tr>\n",
       "  </thead>\n",
       "  <tbody>\n",
       "    <tr>\n",
       "      <th>A/260615/0</th>\n",
       "      <td>1</td>\n",
       "    </tr>\n",
       "    <tr>\n",
       "      <th>B/381521/0</th>\n",
       "      <td>1</td>\n",
       "    </tr>\n",
       "    <tr>\n",
       "      <th>B/379630/0</th>\n",
       "      <td>1</td>\n",
       "    </tr>\n",
       "    <tr>\n",
       "      <th>B/379673/0</th>\n",
       "      <td>1</td>\n",
       "    </tr>\n",
       "    <tr>\n",
       "      <th>B/380311/0</th>\n",
       "      <td>1</td>\n",
       "    </tr>\n",
       "    <tr>\n",
       "      <th>...</th>\n",
       "      <td>...</td>\n",
       "    </tr>\n",
       "    <tr>\n",
       "      <th>B/312577/0</th>\n",
       "      <td>1</td>\n",
       "    </tr>\n",
       "    <tr>\n",
       "      <th>B/312932/0</th>\n",
       "      <td>1</td>\n",
       "    </tr>\n",
       "    <tr>\n",
       "      <th>B/313542/0</th>\n",
       "      <td>1</td>\n",
       "    </tr>\n",
       "    <tr>\n",
       "      <th>B/314016/0</th>\n",
       "      <td>1</td>\n",
       "    </tr>\n",
       "    <tr>\n",
       "      <th>B/453642/0</th>\n",
       "      <td>1</td>\n",
       "    </tr>\n",
       "  </tbody>\n",
       "</table>\n",
       "<p>808 rows × 1 columns</p>\n",
       "</div>"
      ],
      "text/plain": [
       "            rating\n",
       "sample_id         \n",
       "A/260615/0       1\n",
       "B/381521/0       1\n",
       "B/379630/0       1\n",
       "B/379673/0       1\n",
       "B/380311/0       1\n",
       "...            ...\n",
       "B/312577/0       1\n",
       "B/312932/0       1\n",
       "B/313542/0       1\n",
       "B/314016/0       1\n",
       "B/453642/0       1\n",
       "\n",
       "[808 rows x 1 columns]"
      ]
     },
     "execution_count": 13,
     "metadata": {},
     "output_type": "execute_result"
    }
   ],
   "source": [
    "dataset.groupby('sample_id').rating.nunique().to_frame().sort_values('rating', ascending=False)"
   ]
  },
  {
   "cell_type": "markdown",
   "id": "7840a662",
   "metadata": {},
   "source": [
    "### is ingredient ID unique at sample id and ingredient level or sample id and plant level "
   ]
  },
  {
   "cell_type": "code",
   "execution_count": 14,
   "id": "47e1ad15",
   "metadata": {},
   "outputs": [
    {
     "data": {
      "text/html": [
       "<div>\n",
       "<style scoped>\n",
       "    .dataframe tbody tr th:only-of-type {\n",
       "        vertical-align: middle;\n",
       "    }\n",
       "\n",
       "    .dataframe tbody tr th {\n",
       "        vertical-align: top;\n",
       "    }\n",
       "\n",
       "    .dataframe thead th {\n",
       "        text-align: right;\n",
       "    }\n",
       "</style>\n",
       "<table border=\"1\" class=\"dataframe\">\n",
       "  <thead>\n",
       "    <tr style=\"text-align: right;\">\n",
       "      <th></th>\n",
       "      <th></th>\n",
       "      <th>ingredient_id</th>\n",
       "    </tr>\n",
       "    <tr>\n",
       "      <th>sample_id</th>\n",
       "      <th>ingredient</th>\n",
       "      <th></th>\n",
       "    </tr>\n",
       "  </thead>\n",
       "  <tbody>\n",
       "    <tr>\n",
       "      <th>A/658705/1</th>\n",
       "      <th>OFR</th>\n",
       "      <td>6</td>\n",
       "    </tr>\n",
       "    <tr>\n",
       "      <th>A/658711/1</th>\n",
       "      <th>MIS</th>\n",
       "      <td>4</td>\n",
       "    </tr>\n",
       "    <tr>\n",
       "      <th>A/658705/1</th>\n",
       "      <th>MIS</th>\n",
       "      <td>4</td>\n",
       "    </tr>\n",
       "    <tr>\n",
       "      <th>A/659103/1</th>\n",
       "      <th>MIS</th>\n",
       "      <td>4</td>\n",
       "    </tr>\n",
       "    <tr>\n",
       "      <th>A/757644/1</th>\n",
       "      <th>MIS</th>\n",
       "      <td>4</td>\n",
       "    </tr>\n",
       "  </tbody>\n",
       "</table>\n",
       "</div>"
      ],
      "text/plain": [
       "                       ingredient_id\n",
       "sample_id  ingredient               \n",
       "A/658705/1 OFR                     6\n",
       "A/658711/1 MIS                     4\n",
       "A/658705/1 MIS                     4\n",
       "A/659103/1 MIS                     4\n",
       "A/757644/1 MIS                     4"
      ]
     },
     "execution_count": 14,
     "metadata": {},
     "output_type": "execute_result"
    }
   ],
   "source": [
    "dataset.groupby(['sample_id','ingredient']).agg({\"ingredient_id\":\"count\"}).sort_values('ingredient_id',ascending=False).head()"
   ]
  },
  {
   "cell_type": "code",
   "execution_count": 15,
   "id": "1438e33d",
   "metadata": {},
   "outputs": [
    {
     "data": {
      "text/html": [
       "<div>\n",
       "<style scoped>\n",
       "    .dataframe tbody tr th:only-of-type {\n",
       "        vertical-align: middle;\n",
       "    }\n",
       "\n",
       "    .dataframe tbody tr th {\n",
       "        vertical-align: top;\n",
       "    }\n",
       "\n",
       "    .dataframe thead th {\n",
       "        text-align: right;\n",
       "    }\n",
       "</style>\n",
       "<table border=\"1\" class=\"dataframe\">\n",
       "  <thead>\n",
       "    <tr style=\"text-align: right;\">\n",
       "      <th></th>\n",
       "      <th></th>\n",
       "      <th>ingredient_id</th>\n",
       "    </tr>\n",
       "    <tr>\n",
       "      <th>sample_id</th>\n",
       "      <th>manufacture_plant</th>\n",
       "      <th></th>\n",
       "    </tr>\n",
       "  </thead>\n",
       "  <tbody>\n",
       "    <tr>\n",
       "      <th>A/726435/1</th>\n",
       "      <th>A</th>\n",
       "      <td>24</td>\n",
       "    </tr>\n",
       "    <tr>\n",
       "      <th>A/725767/1</th>\n",
       "      <th>A</th>\n",
       "      <td>20</td>\n",
       "    </tr>\n",
       "    <tr>\n",
       "      <th>A/658705/1</th>\n",
       "      <th>A</th>\n",
       "      <td>20</td>\n",
       "    </tr>\n",
       "    <tr>\n",
       "      <th>A/262225/0</th>\n",
       "      <th>A</th>\n",
       "      <td>18</td>\n",
       "    </tr>\n",
       "    <tr>\n",
       "      <th>B/423800/0</th>\n",
       "      <th>B</th>\n",
       "      <td>17</td>\n",
       "    </tr>\n",
       "  </tbody>\n",
       "</table>\n",
       "</div>"
      ],
      "text/plain": [
       "                              ingredient_id\n",
       "sample_id  manufacture_plant               \n",
       "A/726435/1 A                             24\n",
       "A/725767/1 A                             20\n",
       "A/658705/1 A                             20\n",
       "A/262225/0 A                             18\n",
       "B/423800/0 B                             17"
      ]
     },
     "execution_count": 15,
     "metadata": {},
     "output_type": "execute_result"
    }
   ],
   "source": [
    "dataset.groupby(['sample_id','manufacture_plant']).agg({\"ingredient_id\":\"count\"}).sort_values('ingredient_id',ascending=False).head()"
   ]
  },
  {
   "cell_type": "markdown",
   "id": "f7fd92f2",
   "metadata": {},
   "source": [
    "## One sample id can have same ingredient with differnt ingredient ids.\n",
    "- Q1. There are no differentiating factors provided for the same ingredient with difffernt ingredint IDS.\n",
    "- Q2. If there is No difference in Quality, does same \"ingredient\" occuring multiple times in a sample id represnt volume of the ingredient in the sample ID."
   ]
  },
  {
   "cell_type": "code",
   "execution_count": 16,
   "id": "500f9c1d",
   "metadata": {},
   "outputs": [
    {
     "data": {
      "text/html": [
       "<div>\n",
       "<style scoped>\n",
       "    .dataframe tbody tr th:only-of-type {\n",
       "        vertical-align: middle;\n",
       "    }\n",
       "\n",
       "    .dataframe tbody tr th {\n",
       "        vertical-align: top;\n",
       "    }\n",
       "\n",
       "    .dataframe thead th {\n",
       "        text-align: right;\n",
       "    }\n",
       "</style>\n",
       "<table border=\"1\" class=\"dataframe\">\n",
       "  <thead>\n",
       "    <tr style=\"text-align: right;\">\n",
       "      <th></th>\n",
       "      <th>sample_id</th>\n",
       "      <th>ingredient_id</th>\n",
       "      <th>perfume_base</th>\n",
       "      <th>fragrance</th>\n",
       "      <th>manufacture_plant</th>\n",
       "      <th>rating</th>\n",
       "      <th>manufacture_date</th>\n",
       "      <th>ingredient_type</th>\n",
       "      <th>ingredient</th>\n",
       "    </tr>\n",
       "  </thead>\n",
       "  <tbody>\n",
       "    <tr>\n",
       "      <th>8278</th>\n",
       "      <td>A/658705/1</td>\n",
       "      <td>A/22123048</td>\n",
       "      <td>OIL</td>\n",
       "      <td>ORIENTAL</td>\n",
       "      <td>A</td>\n",
       "      <td>0</td>\n",
       "      <td>26/05/2020 4:38</td>\n",
       "      <td>AROMA</td>\n",
       "      <td>OFR</td>\n",
       "    </tr>\n",
       "    <tr>\n",
       "      <th>8280</th>\n",
       "      <td>A/658705/1</td>\n",
       "      <td>A/22123042</td>\n",
       "      <td>OIL</td>\n",
       "      <td>ORIENTAL</td>\n",
       "      <td>A</td>\n",
       "      <td>0</td>\n",
       "      <td>26/05/2020 4:38</td>\n",
       "      <td>AROMA</td>\n",
       "      <td>OFR</td>\n",
       "    </tr>\n",
       "    <tr>\n",
       "      <th>8281</th>\n",
       "      <td>A/658705/1</td>\n",
       "      <td>A/22123037</td>\n",
       "      <td>OIL</td>\n",
       "      <td>ORIENTAL</td>\n",
       "      <td>A</td>\n",
       "      <td>0</td>\n",
       "      <td>26/05/2020 4:38</td>\n",
       "      <td>AROMA</td>\n",
       "      <td>OFR</td>\n",
       "    </tr>\n",
       "    <tr>\n",
       "      <th>8282</th>\n",
       "      <td>A/658705/1</td>\n",
       "      <td>A/22123030</td>\n",
       "      <td>OIL</td>\n",
       "      <td>ORIENTAL</td>\n",
       "      <td>A</td>\n",
       "      <td>0</td>\n",
       "      <td>26/05/2020 4:38</td>\n",
       "      <td>AROMA</td>\n",
       "      <td>OFR</td>\n",
       "    </tr>\n",
       "    <tr>\n",
       "      <th>8284</th>\n",
       "      <td>A/658705/1</td>\n",
       "      <td>A/22123019</td>\n",
       "      <td>OIL</td>\n",
       "      <td>ORIENTAL</td>\n",
       "      <td>A</td>\n",
       "      <td>0</td>\n",
       "      <td>26/05/2020 4:38</td>\n",
       "      <td>AROMA</td>\n",
       "      <td>OFR</td>\n",
       "    </tr>\n",
       "    <tr>\n",
       "      <th>8285</th>\n",
       "      <td>A/658705/1</td>\n",
       "      <td>A/22123009</td>\n",
       "      <td>OIL</td>\n",
       "      <td>ORIENTAL</td>\n",
       "      <td>A</td>\n",
       "      <td>0</td>\n",
       "      <td>26/05/2020 4:38</td>\n",
       "      <td>AROMA</td>\n",
       "      <td>OFR</td>\n",
       "    </tr>\n",
       "  </tbody>\n",
       "</table>\n",
       "</div>"
      ],
      "text/plain": [
       "       sample_id ingredient_id perfume_base fragrance manufacture_plant  \\\n",
       "8278  A/658705/1    A/22123048          OIL  ORIENTAL                 A   \n",
       "8280  A/658705/1    A/22123042          OIL  ORIENTAL                 A   \n",
       "8281  A/658705/1    A/22123037          OIL  ORIENTAL                 A   \n",
       "8282  A/658705/1    A/22123030          OIL  ORIENTAL                 A   \n",
       "8284  A/658705/1    A/22123019          OIL  ORIENTAL                 A   \n",
       "8285  A/658705/1    A/22123009          OIL  ORIENTAL                 A   \n",
       "\n",
       "      rating manufacture_date ingredient_type ingredient  \n",
       "8278       0  26/05/2020 4:38           AROMA        OFR  \n",
       "8280       0  26/05/2020 4:38           AROMA        OFR  \n",
       "8281       0  26/05/2020 4:38           AROMA        OFR  \n",
       "8282       0  26/05/2020 4:38           AROMA        OFR  \n",
       "8284       0  26/05/2020 4:38           AROMA        OFR  \n",
       "8285       0  26/05/2020 4:38           AROMA        OFR  "
      ]
     },
     "execution_count": 16,
     "metadata": {},
     "output_type": "execute_result"
    }
   ],
   "source": [
    "dataset[(dataset['sample_id']=='A/658705/1') & (dataset['ingredient']=='OFR')]"
   ]
  },
  {
   "cell_type": "code",
   "execution_count": 17,
   "id": "59095ff2",
   "metadata": {},
   "outputs": [
    {
     "data": {
      "text/html": [
       "<div>\n",
       "<style scoped>\n",
       "    .dataframe tbody tr th:only-of-type {\n",
       "        vertical-align: middle;\n",
       "    }\n",
       "\n",
       "    .dataframe tbody tr th {\n",
       "        vertical-align: top;\n",
       "    }\n",
       "\n",
       "    .dataframe thead th {\n",
       "        text-align: right;\n",
       "    }\n",
       "</style>\n",
       "<table border=\"1\" class=\"dataframe\">\n",
       "  <thead>\n",
       "    <tr style=\"text-align: right;\">\n",
       "      <th></th>\n",
       "      <th>sample_id</th>\n",
       "      <th>ingredient_id</th>\n",
       "      <th>perfume_base</th>\n",
       "      <th>fragrance</th>\n",
       "      <th>manufacture_plant</th>\n",
       "      <th>rating</th>\n",
       "      <th>manufacture_date</th>\n",
       "      <th>ingredient_type</th>\n",
       "      <th>ingredient</th>\n",
       "    </tr>\n",
       "  </thead>\n",
       "  <tbody>\n",
       "    <tr>\n",
       "      <th>8259</th>\n",
       "      <td>A/658711/1</td>\n",
       "      <td>A/22123200</td>\n",
       "      <td>OIL</td>\n",
       "      <td>ORIENTAL</td>\n",
       "      <td>A</td>\n",
       "      <td>0</td>\n",
       "      <td>26/05/2020 4:42</td>\n",
       "      <td>SOLVENT</td>\n",
       "      <td>MIS</td>\n",
       "    </tr>\n",
       "    <tr>\n",
       "      <th>8260</th>\n",
       "      <td>A/658711/1</td>\n",
       "      <td>A/22123199</td>\n",
       "      <td>OIL</td>\n",
       "      <td>ORIENTAL</td>\n",
       "      <td>A</td>\n",
       "      <td>0</td>\n",
       "      <td>26/05/2020 4:42</td>\n",
       "      <td>SOLVENT</td>\n",
       "      <td>MIS</td>\n",
       "    </tr>\n",
       "    <tr>\n",
       "      <th>8261</th>\n",
       "      <td>A/658711/1</td>\n",
       "      <td>A/22123197</td>\n",
       "      <td>OIL</td>\n",
       "      <td>ORIENTAL</td>\n",
       "      <td>A</td>\n",
       "      <td>0</td>\n",
       "      <td>26/05/2020 4:42</td>\n",
       "      <td>SOLVENT</td>\n",
       "      <td>MIS</td>\n",
       "    </tr>\n",
       "    <tr>\n",
       "      <th>8263</th>\n",
       "      <td>A/658711/1</td>\n",
       "      <td>A/22123195</td>\n",
       "      <td>OIL</td>\n",
       "      <td>ORIENTAL</td>\n",
       "      <td>A</td>\n",
       "      <td>0</td>\n",
       "      <td>26/05/2020 4:42</td>\n",
       "      <td>SOLVENT</td>\n",
       "      <td>MIS</td>\n",
       "    </tr>\n",
       "  </tbody>\n",
       "</table>\n",
       "</div>"
      ],
      "text/plain": [
       "       sample_id ingredient_id perfume_base fragrance manufacture_plant  \\\n",
       "8259  A/658711/1    A/22123200          OIL  ORIENTAL                 A   \n",
       "8260  A/658711/1    A/22123199          OIL  ORIENTAL                 A   \n",
       "8261  A/658711/1    A/22123197          OIL  ORIENTAL                 A   \n",
       "8263  A/658711/1    A/22123195          OIL  ORIENTAL                 A   \n",
       "\n",
       "      rating manufacture_date ingredient_type ingredient  \n",
       "8259       0  26/05/2020 4:42         SOLVENT        MIS  \n",
       "8260       0  26/05/2020 4:42         SOLVENT        MIS  \n",
       "8261       0  26/05/2020 4:42         SOLVENT        MIS  \n",
       "8263       0  26/05/2020 4:42         SOLVENT        MIS  "
      ]
     },
     "execution_count": 17,
     "metadata": {},
     "output_type": "execute_result"
    }
   ],
   "source": [
    "dataset[(dataset['sample_id']=='A/658711/1') & (dataset['ingredient']=='MIS')]"
   ]
  },
  {
   "cell_type": "code",
   "execution_count": 18,
   "id": "0b79cfcb",
   "metadata": {},
   "outputs": [
    {
     "data": {
      "text/html": [
       "<div>\n",
       "<style scoped>\n",
       "    .dataframe tbody tr th:only-of-type {\n",
       "        vertical-align: middle;\n",
       "    }\n",
       "\n",
       "    .dataframe tbody tr th {\n",
       "        vertical-align: top;\n",
       "    }\n",
       "\n",
       "    .dataframe thead th {\n",
       "        text-align: right;\n",
       "    }\n",
       "</style>\n",
       "<table border=\"1\" class=\"dataframe\">\n",
       "  <thead>\n",
       "    <tr style=\"text-align: right;\">\n",
       "      <th></th>\n",
       "      <th>sample_id</th>\n",
       "      <th>ingredient_id</th>\n",
       "      <th>perfume_base</th>\n",
       "      <th>fragrance</th>\n",
       "      <th>manufacture_plant</th>\n",
       "      <th>rating</th>\n",
       "      <th>manufacture_date</th>\n",
       "      <th>ingredient_type</th>\n",
       "      <th>ingredient</th>\n",
       "    </tr>\n",
       "  </thead>\n",
       "  <tbody>\n",
       "    <tr>\n",
       "      <th>1913</th>\n",
       "      <td>A/411469/2</td>\n",
       "      <td>A/9493480</td>\n",
       "      <td>OIL</td>\n",
       "      <td>ORIENTAL</td>\n",
       "      <td>A</td>\n",
       "      <td>1</td>\n",
       "      <td>22/12/2020 6:50</td>\n",
       "      <td>SOLVENT</td>\n",
       "      <td>BLF</td>\n",
       "    </tr>\n",
       "    <tr>\n",
       "      <th>1914</th>\n",
       "      <td>A/411469/1</td>\n",
       "      <td>A/9493480</td>\n",
       "      <td>OIL</td>\n",
       "      <td>ORIENTAL</td>\n",
       "      <td>A</td>\n",
       "      <td>1</td>\n",
       "      <td>22/12/2020 6:50</td>\n",
       "      <td>SOLVENT</td>\n",
       "      <td>BLF</td>\n",
       "    </tr>\n",
       "    <tr>\n",
       "      <th>1915</th>\n",
       "      <td>A/411469/0</td>\n",
       "      <td>A/9493480</td>\n",
       "      <td>OIL</td>\n",
       "      <td>ORIENTAL</td>\n",
       "      <td>A</td>\n",
       "      <td>1</td>\n",
       "      <td>22/12/2020 6:50</td>\n",
       "      <td>SOLVENT</td>\n",
       "      <td>BLF</td>\n",
       "    </tr>\n",
       "  </tbody>\n",
       "</table>\n",
       "</div>"
      ],
      "text/plain": [
       "       sample_id ingredient_id perfume_base fragrance manufacture_plant  \\\n",
       "1913  A/411469/2     A/9493480          OIL  ORIENTAL                 A   \n",
       "1914  A/411469/1     A/9493480          OIL  ORIENTAL                 A   \n",
       "1915  A/411469/0     A/9493480          OIL  ORIENTAL                 A   \n",
       "\n",
       "      rating manufacture_date ingredient_type ingredient  \n",
       "1913       1  22/12/2020 6:50         SOLVENT        BLF  \n",
       "1914       1  22/12/2020 6:50         SOLVENT        BLF  \n",
       "1915       1  22/12/2020 6:50         SOLVENT        BLF  "
      ]
     },
     "execution_count": 18,
     "metadata": {},
     "output_type": "execute_result"
    }
   ],
   "source": [
    "dataset[(dataset['ingredient_id']=='A/9493480')]"
   ]
  },
  {
   "cell_type": "markdown",
   "id": "937eafb2",
   "metadata": {},
   "source": [
    "### Since there is no  differentiating factors provided for the same ingredient with difffernt ingredint IDS in the dataset.We will be dropping the ingredient feature from the data set for further processing, This has also been discussed with Mehdi and we have agreed upon removal of this feature.\n"
   ]
  },
  {
   "cell_type": "markdown",
   "id": "f5a022c9",
   "metadata": {},
   "source": [
    "# Data Wrangling"
   ]
  },
  {
   "cell_type": "markdown",
   "id": "c98e88f9",
   "metadata": {},
   "source": [
    "### Droping ingredient column from Dataset"
   ]
  },
  {
   "cell_type": "code",
   "execution_count": 19,
   "id": "f929f698",
   "metadata": {},
   "outputs": [],
   "source": [
    "dataset=dataset.drop(columns=['ingredient'])"
   ]
  },
  {
   "cell_type": "code",
   "execution_count": 20,
   "id": "1e377e91",
   "metadata": {},
   "outputs": [
    {
     "data": {
      "text/plain": [
       "Index(['sample_id', 'ingredient_id', 'perfume_base', 'fragrance',\n",
       "       'manufacture_plant', 'rating', 'manufacture_date', 'ingredient_type'],\n",
       "      dtype='object')"
      ]
     },
     "execution_count": 20,
     "metadata": {},
     "output_type": "execute_result"
    }
   ],
   "source": [
    "dataset.columns"
   ]
  },
  {
   "cell_type": "markdown",
   "id": "acbbda91",
   "metadata": {},
   "source": [
    "### Agrregatig the data at sample ID level"
   ]
  },
  {
   "cell_type": "code",
   "execution_count": 21,
   "id": "9d17cadf",
   "metadata": {},
   "outputs": [],
   "source": [
    "df=dataset.pivot_table(index=['sample_id','perfume_base','fragrance','manufacture_plant','manufacture_date','rating'],columns='ingredient_type',aggfunc='size', fill_value=0).reset_index()"
   ]
  },
  {
   "cell_type": "markdown",
   "id": "42fa925c",
   "metadata": {},
   "source": [
    "### Creating new feature\n",
    "    - Total number of ingredients i.e. SUM(AROMA,FIXATIVE,SOLVENT)"
   ]
  },
  {
   "cell_type": "code",
   "execution_count": 22,
   "id": "04edaa76",
   "metadata": {},
   "outputs": [],
   "source": [
    "df['no_of_ingredients']=df['AROMA']+df['FIXATIVE']+df['SOLVENT']"
   ]
  },
  {
   "cell_type": "code",
   "execution_count": 23,
   "id": "f71eeecb",
   "metadata": {},
   "outputs": [
    {
     "data": {
      "text/html": [
       "<div>\n",
       "<style scoped>\n",
       "    .dataframe tbody tr th:only-of-type {\n",
       "        vertical-align: middle;\n",
       "    }\n",
       "\n",
       "    .dataframe tbody tr th {\n",
       "        vertical-align: top;\n",
       "    }\n",
       "\n",
       "    .dataframe thead th {\n",
       "        text-align: right;\n",
       "    }\n",
       "</style>\n",
       "<table border=\"1\" class=\"dataframe\">\n",
       "  <thead>\n",
       "    <tr style=\"text-align: right;\">\n",
       "      <th>ingredient_type</th>\n",
       "      <th>sample_id</th>\n",
       "      <th>perfume_base</th>\n",
       "      <th>fragrance</th>\n",
       "      <th>manufacture_plant</th>\n",
       "      <th>manufacture_date</th>\n",
       "      <th>rating</th>\n",
       "      <th>AROMA</th>\n",
       "      <th>FIXATIVE</th>\n",
       "      <th>SOLVENT</th>\n",
       "      <th>no_of_ingredients</th>\n",
       "    </tr>\n",
       "  </thead>\n",
       "  <tbody>\n",
       "    <tr>\n",
       "      <th>0</th>\n",
       "      <td>A/260615/0</td>\n",
       "      <td>OIL</td>\n",
       "      <td>ORIENTAL</td>\n",
       "      <td>A</td>\n",
       "      <td>06/03/2020 4:19</td>\n",
       "      <td>0</td>\n",
       "      <td>1</td>\n",
       "      <td>0</td>\n",
       "      <td>5</td>\n",
       "      <td>6</td>\n",
       "    </tr>\n",
       "    <tr>\n",
       "      <th>1</th>\n",
       "      <td>A/260617/0</td>\n",
       "      <td>OIL</td>\n",
       "      <td>ORIENTAL</td>\n",
       "      <td>A</td>\n",
       "      <td>06/03/2020 4:22</td>\n",
       "      <td>0</td>\n",
       "      <td>1</td>\n",
       "      <td>0</td>\n",
       "      <td>5</td>\n",
       "      <td>6</td>\n",
       "    </tr>\n",
       "    <tr>\n",
       "      <th>2</th>\n",
       "      <td>A/260646/0</td>\n",
       "      <td>WATER</td>\n",
       "      <td>WOODY</td>\n",
       "      <td>A</td>\n",
       "      <td>06/03/2020 5:02</td>\n",
       "      <td>0</td>\n",
       "      <td>1</td>\n",
       "      <td>5</td>\n",
       "      <td>7</td>\n",
       "      <td>13</td>\n",
       "    </tr>\n",
       "    <tr>\n",
       "      <th>3</th>\n",
       "      <td>A/260655/0</td>\n",
       "      <td>WATER</td>\n",
       "      <td>WOODY</td>\n",
       "      <td>A</td>\n",
       "      <td>06/03/2020 5:09</td>\n",
       "      <td>0</td>\n",
       "      <td>1</td>\n",
       "      <td>5</td>\n",
       "      <td>7</td>\n",
       "      <td>13</td>\n",
       "    </tr>\n",
       "    <tr>\n",
       "      <th>4</th>\n",
       "      <td>A/261787/0</td>\n",
       "      <td>WATER</td>\n",
       "      <td>WOODY</td>\n",
       "      <td>A</td>\n",
       "      <td>10/03/2020 7:42</td>\n",
       "      <td>0</td>\n",
       "      <td>1</td>\n",
       "      <td>7</td>\n",
       "      <td>8</td>\n",
       "      <td>16</td>\n",
       "    </tr>\n",
       "    <tr>\n",
       "      <th>...</th>\n",
       "      <td>...</td>\n",
       "      <td>...</td>\n",
       "      <td>...</td>\n",
       "      <td>...</td>\n",
       "      <td>...</td>\n",
       "      <td>...</td>\n",
       "      <td>...</td>\n",
       "      <td>...</td>\n",
       "      <td>...</td>\n",
       "      <td>...</td>\n",
       "    </tr>\n",
       "    <tr>\n",
       "      <th>803</th>\n",
       "      <td>B/449588/0</td>\n",
       "      <td>OIL</td>\n",
       "      <td>FRESH</td>\n",
       "      <td>B</td>\n",
       "      <td>23/02/2021 8:06</td>\n",
       "      <td>0</td>\n",
       "      <td>2</td>\n",
       "      <td>7</td>\n",
       "      <td>5</td>\n",
       "      <td>14</td>\n",
       "    </tr>\n",
       "    <tr>\n",
       "      <th>804</th>\n",
       "      <td>B/450082/0</td>\n",
       "      <td>OIL</td>\n",
       "      <td>FRESH</td>\n",
       "      <td>B</td>\n",
       "      <td>23/02/2021 17:59</td>\n",
       "      <td>0</td>\n",
       "      <td>2</td>\n",
       "      <td>7</td>\n",
       "      <td>5</td>\n",
       "      <td>14</td>\n",
       "    </tr>\n",
       "    <tr>\n",
       "      <th>805</th>\n",
       "      <td>B/451633/0</td>\n",
       "      <td>WATER</td>\n",
       "      <td>FRESH</td>\n",
       "      <td>B</td>\n",
       "      <td>25/02/2021 12:00</td>\n",
       "      <td>0</td>\n",
       "      <td>1</td>\n",
       "      <td>0</td>\n",
       "      <td>1</td>\n",
       "      <td>2</td>\n",
       "    </tr>\n",
       "    <tr>\n",
       "      <th>806</th>\n",
       "      <td>B/451954/0</td>\n",
       "      <td>OIL</td>\n",
       "      <td>FRESH</td>\n",
       "      <td>B</td>\n",
       "      <td>25/02/2021 21:49</td>\n",
       "      <td>0</td>\n",
       "      <td>2</td>\n",
       "      <td>7</td>\n",
       "      <td>5</td>\n",
       "      <td>14</td>\n",
       "    </tr>\n",
       "    <tr>\n",
       "      <th>807</th>\n",
       "      <td>B/453642/0</td>\n",
       "      <td>ALCOHOL</td>\n",
       "      <td>FLORAL</td>\n",
       "      <td>B</td>\n",
       "      <td>28/02/2021 7:11</td>\n",
       "      <td>0</td>\n",
       "      <td>1</td>\n",
       "      <td>7</td>\n",
       "      <td>5</td>\n",
       "      <td>13</td>\n",
       "    </tr>\n",
       "  </tbody>\n",
       "</table>\n",
       "<p>808 rows × 10 columns</p>\n",
       "</div>"
      ],
      "text/plain": [
       "ingredient_type   sample_id perfume_base fragrance manufacture_plant  \\\n",
       "0                A/260615/0          OIL  ORIENTAL                 A   \n",
       "1                A/260617/0          OIL  ORIENTAL                 A   \n",
       "2                A/260646/0        WATER     WOODY                 A   \n",
       "3                A/260655/0        WATER     WOODY                 A   \n",
       "4                A/261787/0        WATER     WOODY                 A   \n",
       "..                      ...          ...       ...               ...   \n",
       "803              B/449588/0          OIL     FRESH                 B   \n",
       "804              B/450082/0          OIL     FRESH                 B   \n",
       "805              B/451633/0        WATER     FRESH                 B   \n",
       "806              B/451954/0          OIL     FRESH                 B   \n",
       "807              B/453642/0      ALCOHOL    FLORAL                 B   \n",
       "\n",
       "ingredient_type  manufacture_date  rating  AROMA  FIXATIVE  SOLVENT  \\\n",
       "0                 06/03/2020 4:19       0      1         0        5   \n",
       "1                 06/03/2020 4:22       0      1         0        5   \n",
       "2                 06/03/2020 5:02       0      1         5        7   \n",
       "3                 06/03/2020 5:09       0      1         5        7   \n",
       "4                 10/03/2020 7:42       0      1         7        8   \n",
       "..                            ...     ...    ...       ...      ...   \n",
       "803               23/02/2021 8:06       0      2         7        5   \n",
       "804              23/02/2021 17:59       0      2         7        5   \n",
       "805              25/02/2021 12:00       0      1         0        1   \n",
       "806              25/02/2021 21:49       0      2         7        5   \n",
       "807               28/02/2021 7:11       0      1         7        5   \n",
       "\n",
       "ingredient_type  no_of_ingredients  \n",
       "0                                6  \n",
       "1                                6  \n",
       "2                               13  \n",
       "3                               13  \n",
       "4                               16  \n",
       "..                             ...  \n",
       "803                             14  \n",
       "804                             14  \n",
       "805                              2  \n",
       "806                             14  \n",
       "807                             13  \n",
       "\n",
       "[808 rows x 10 columns]"
      ]
     },
     "execution_count": 23,
     "metadata": {},
     "output_type": "execute_result"
    }
   ],
   "source": [
    "df"
   ]
  },
  {
   "cell_type": "markdown",
   "id": "4f6231a5",
   "metadata": {},
   "source": [
    "### Feature Engineering"
   ]
  },
  {
   "cell_type": "code",
   "execution_count": 24,
   "id": "a51c9ef4",
   "metadata": {},
   "outputs": [],
   "source": [
    "df['AROMA']=df['AROMA']/df['no_of_ingredients']\n",
    "df['FIXATIVE']=df['FIXATIVE']/df['no_of_ingredients']\n",
    "df['SOLVENT']=df['SOLVENT']/df['no_of_ingredients']"
   ]
  },
  {
   "cell_type": "code",
   "execution_count": 25,
   "id": "1b2e2a4d",
   "metadata": {},
   "outputs": [
    {
     "data": {
      "text/html": [
       "<div>\n",
       "<style scoped>\n",
       "    .dataframe tbody tr th:only-of-type {\n",
       "        vertical-align: middle;\n",
       "    }\n",
       "\n",
       "    .dataframe tbody tr th {\n",
       "        vertical-align: top;\n",
       "    }\n",
       "\n",
       "    .dataframe thead th {\n",
       "        text-align: right;\n",
       "    }\n",
       "</style>\n",
       "<table border=\"1\" class=\"dataframe\">\n",
       "  <thead>\n",
       "    <tr style=\"text-align: right;\">\n",
       "      <th>ingredient_type</th>\n",
       "      <th>sample_id</th>\n",
       "      <th>perfume_base</th>\n",
       "      <th>fragrance</th>\n",
       "      <th>manufacture_plant</th>\n",
       "      <th>manufacture_date</th>\n",
       "      <th>rating</th>\n",
       "      <th>AROMA</th>\n",
       "      <th>FIXATIVE</th>\n",
       "      <th>SOLVENT</th>\n",
       "      <th>no_of_ingredients</th>\n",
       "    </tr>\n",
       "  </thead>\n",
       "  <tbody>\n",
       "    <tr>\n",
       "      <th>0</th>\n",
       "      <td>A/260615/0</td>\n",
       "      <td>OIL</td>\n",
       "      <td>ORIENTAL</td>\n",
       "      <td>A</td>\n",
       "      <td>06/03/2020 4:19</td>\n",
       "      <td>0</td>\n",
       "      <td>0.166667</td>\n",
       "      <td>0.000000</td>\n",
       "      <td>0.833333</td>\n",
       "      <td>6</td>\n",
       "    </tr>\n",
       "    <tr>\n",
       "      <th>1</th>\n",
       "      <td>A/260617/0</td>\n",
       "      <td>OIL</td>\n",
       "      <td>ORIENTAL</td>\n",
       "      <td>A</td>\n",
       "      <td>06/03/2020 4:22</td>\n",
       "      <td>0</td>\n",
       "      <td>0.166667</td>\n",
       "      <td>0.000000</td>\n",
       "      <td>0.833333</td>\n",
       "      <td>6</td>\n",
       "    </tr>\n",
       "    <tr>\n",
       "      <th>2</th>\n",
       "      <td>A/260646/0</td>\n",
       "      <td>WATER</td>\n",
       "      <td>WOODY</td>\n",
       "      <td>A</td>\n",
       "      <td>06/03/2020 5:02</td>\n",
       "      <td>0</td>\n",
       "      <td>0.076923</td>\n",
       "      <td>0.384615</td>\n",
       "      <td>0.538462</td>\n",
       "      <td>13</td>\n",
       "    </tr>\n",
       "    <tr>\n",
       "      <th>3</th>\n",
       "      <td>A/260655/0</td>\n",
       "      <td>WATER</td>\n",
       "      <td>WOODY</td>\n",
       "      <td>A</td>\n",
       "      <td>06/03/2020 5:09</td>\n",
       "      <td>0</td>\n",
       "      <td>0.076923</td>\n",
       "      <td>0.384615</td>\n",
       "      <td>0.538462</td>\n",
       "      <td>13</td>\n",
       "    </tr>\n",
       "    <tr>\n",
       "      <th>4</th>\n",
       "      <td>A/261787/0</td>\n",
       "      <td>WATER</td>\n",
       "      <td>WOODY</td>\n",
       "      <td>A</td>\n",
       "      <td>10/03/2020 7:42</td>\n",
       "      <td>0</td>\n",
       "      <td>0.062500</td>\n",
       "      <td>0.437500</td>\n",
       "      <td>0.500000</td>\n",
       "      <td>16</td>\n",
       "    </tr>\n",
       "    <tr>\n",
       "      <th>...</th>\n",
       "      <td>...</td>\n",
       "      <td>...</td>\n",
       "      <td>...</td>\n",
       "      <td>...</td>\n",
       "      <td>...</td>\n",
       "      <td>...</td>\n",
       "      <td>...</td>\n",
       "      <td>...</td>\n",
       "      <td>...</td>\n",
       "      <td>...</td>\n",
       "    </tr>\n",
       "    <tr>\n",
       "      <th>803</th>\n",
       "      <td>B/449588/0</td>\n",
       "      <td>OIL</td>\n",
       "      <td>FRESH</td>\n",
       "      <td>B</td>\n",
       "      <td>23/02/2021 8:06</td>\n",
       "      <td>0</td>\n",
       "      <td>0.142857</td>\n",
       "      <td>0.500000</td>\n",
       "      <td>0.357143</td>\n",
       "      <td>14</td>\n",
       "    </tr>\n",
       "    <tr>\n",
       "      <th>804</th>\n",
       "      <td>B/450082/0</td>\n",
       "      <td>OIL</td>\n",
       "      <td>FRESH</td>\n",
       "      <td>B</td>\n",
       "      <td>23/02/2021 17:59</td>\n",
       "      <td>0</td>\n",
       "      <td>0.142857</td>\n",
       "      <td>0.500000</td>\n",
       "      <td>0.357143</td>\n",
       "      <td>14</td>\n",
       "    </tr>\n",
       "    <tr>\n",
       "      <th>805</th>\n",
       "      <td>B/451633/0</td>\n",
       "      <td>WATER</td>\n",
       "      <td>FRESH</td>\n",
       "      <td>B</td>\n",
       "      <td>25/02/2021 12:00</td>\n",
       "      <td>0</td>\n",
       "      <td>0.500000</td>\n",
       "      <td>0.000000</td>\n",
       "      <td>0.500000</td>\n",
       "      <td>2</td>\n",
       "    </tr>\n",
       "    <tr>\n",
       "      <th>806</th>\n",
       "      <td>B/451954/0</td>\n",
       "      <td>OIL</td>\n",
       "      <td>FRESH</td>\n",
       "      <td>B</td>\n",
       "      <td>25/02/2021 21:49</td>\n",
       "      <td>0</td>\n",
       "      <td>0.142857</td>\n",
       "      <td>0.500000</td>\n",
       "      <td>0.357143</td>\n",
       "      <td>14</td>\n",
       "    </tr>\n",
       "    <tr>\n",
       "      <th>807</th>\n",
       "      <td>B/453642/0</td>\n",
       "      <td>ALCOHOL</td>\n",
       "      <td>FLORAL</td>\n",
       "      <td>B</td>\n",
       "      <td>28/02/2021 7:11</td>\n",
       "      <td>0</td>\n",
       "      <td>0.076923</td>\n",
       "      <td>0.538462</td>\n",
       "      <td>0.384615</td>\n",
       "      <td>13</td>\n",
       "    </tr>\n",
       "  </tbody>\n",
       "</table>\n",
       "<p>808 rows × 10 columns</p>\n",
       "</div>"
      ],
      "text/plain": [
       "ingredient_type   sample_id perfume_base fragrance manufacture_plant  \\\n",
       "0                A/260615/0          OIL  ORIENTAL                 A   \n",
       "1                A/260617/0          OIL  ORIENTAL                 A   \n",
       "2                A/260646/0        WATER     WOODY                 A   \n",
       "3                A/260655/0        WATER     WOODY                 A   \n",
       "4                A/261787/0        WATER     WOODY                 A   \n",
       "..                      ...          ...       ...               ...   \n",
       "803              B/449588/0          OIL     FRESH                 B   \n",
       "804              B/450082/0          OIL     FRESH                 B   \n",
       "805              B/451633/0        WATER     FRESH                 B   \n",
       "806              B/451954/0          OIL     FRESH                 B   \n",
       "807              B/453642/0      ALCOHOL    FLORAL                 B   \n",
       "\n",
       "ingredient_type  manufacture_date  rating     AROMA  FIXATIVE   SOLVENT  \\\n",
       "0                 06/03/2020 4:19       0  0.166667  0.000000  0.833333   \n",
       "1                 06/03/2020 4:22       0  0.166667  0.000000  0.833333   \n",
       "2                 06/03/2020 5:02       0  0.076923  0.384615  0.538462   \n",
       "3                 06/03/2020 5:09       0  0.076923  0.384615  0.538462   \n",
       "4                 10/03/2020 7:42       0  0.062500  0.437500  0.500000   \n",
       "..                            ...     ...       ...       ...       ...   \n",
       "803               23/02/2021 8:06       0  0.142857  0.500000  0.357143   \n",
       "804              23/02/2021 17:59       0  0.142857  0.500000  0.357143   \n",
       "805              25/02/2021 12:00       0  0.500000  0.000000  0.500000   \n",
       "806              25/02/2021 21:49       0  0.142857  0.500000  0.357143   \n",
       "807               28/02/2021 7:11       0  0.076923  0.538462  0.384615   \n",
       "\n",
       "ingredient_type  no_of_ingredients  \n",
       "0                                6  \n",
       "1                                6  \n",
       "2                               13  \n",
       "3                               13  \n",
       "4                               16  \n",
       "..                             ...  \n",
       "803                             14  \n",
       "804                             14  \n",
       "805                              2  \n",
       "806                             14  \n",
       "807                             13  \n",
       "\n",
       "[808 rows x 10 columns]"
      ]
     },
     "execution_count": 25,
     "metadata": {},
     "output_type": "execute_result"
    }
   ],
   "source": [
    "df"
   ]
  },
  {
   "cell_type": "code",
   "execution_count": 26,
   "id": "60720e09",
   "metadata": {},
   "outputs": [],
   "source": [
    "numeric_features=['AROMA','FIXATIVE', 'SOLVENT', 'no_of_ingredients']\n",
    "categorical_features=['perfume_base', 'fragrance','manufacture_plant']\n",
    "target='rating'"
   ]
  },
  {
   "cell_type": "markdown",
   "id": "e2f57ea5",
   "metadata": {},
   "source": [
    "# EDA - Visualization\n",
    "\n",
    "## Numerical Features"
   ]
  },
  {
   "cell_type": "markdown",
   "id": "21e179fe",
   "metadata": {},
   "source": [
    "### Corellation Matrix"
   ]
  },
  {
   "cell_type": "code",
   "execution_count": 27,
   "id": "303078ea",
   "metadata": {},
   "outputs": [
    {
     "data": {
      "image/png": "[encoded data removed]",
      "text/plain": [
       "<Figure size 576x504 with 2 Axes>"
      ]
     },
     "metadata": {
      "needs_background": "light"
     },
     "output_type": "display_data"
    }
   ],
   "source": [
    "corr_df = df[numeric_features + [target]].corr()\n",
    "\n",
    "cmap = sns.diverging_palette(230, 20, as_cmap=True)\n",
    "mask = np.triu(np.ones_like(corr_df, dtype=bool))\n",
    "\n",
    "fig, ax = plt.subplots(figsize=(8, 7))\n",
    "sns.heatmap(\n",
    "    data=corr_df,\n",
    "    mask=mask,\n",
    "    cmap=cmap, \n",
    "    vmax=1.0, \n",
    "    vmin=-1.0,\n",
    "    center=0,\n",
    "    square=True, \n",
    "    linewidths=0.5, \n",
    "    linecolor='k',\n",
    "    annot=True, \n",
    "    fmt='.3f',\n",
    "    ax=ax\n",
    ")\n",
    "ax.set(title='Correlation Numeric Features');"
   ]
  },
  {
   "cell_type": "markdown",
   "id": "1f29f482",
   "metadata": {},
   "source": [
    "### It can be observed that ingredient type SOLVENT & AROMA are highly correlated with rating[Target Variable], It can be a strong predictor."
   ]
  },
  {
   "cell_type": "code",
   "execution_count": 28,
   "id": "a936a551",
   "metadata": {},
   "outputs": [],
   "source": [
    "sns.set_style(\n",
    "    style='darkgrid', \n",
    "    rc={'axes.facecolor': '.9', 'grid.color': '.8'}\n",
    ")\n",
    "sns.set_palette(palette='deep')\n",
    "sns_c = sns.color_palette(palette='deep')\n",
    "plt.rcParams['figure.figsize'] = [10, 5]\n",
    "plt.rcParams['figure.dpi'] = 100"
   ]
  },
  {
   "cell_type": "markdown",
   "id": "c2cde787",
   "metadata": {},
   "source": [
    " ### AROMA"
   ]
  },
  {
   "cell_type": "code",
   "execution_count": 29,
   "id": "1497f149",
   "metadata": {},
   "outputs": [
    {
     "data": {
      "text/plain": [
       "<AxesSubplot:>"
      ]
     },
     "execution_count": 29,
     "metadata": {},
     "output_type": "execute_result"
    },
    {
     "data": {
      "image/png": "[encoded data removed]",
      "text/plain": [
       "<Figure size 800x400 with 1 Axes>"
      ]
     },
     "metadata": {},
     "output_type": "display_data"
    }
   ],
   "source": [
    "fig=plt.figure(figsize=(8,4))\n",
    "ax=fig.gca()\n",
    "df['AROMA'].hist(ax=ax)"
   ]
  },
  {
   "cell_type": "code",
   "execution_count": 30,
   "id": "5994be59",
   "metadata": {},
   "outputs": [
    {
     "data": {
      "text/plain": [
       "<AxesSubplot:xlabel='rating', ylabel='AROMA'>"
      ]
     },
     "execution_count": 30,
     "metadata": {},
     "output_type": "execute_result"
    },
    {
     "data": {
      "image/png": "[encoded data removed]",
      "text/plain": [
       "<Figure size 1000x500 with 1 Axes>"
      ]
     },
     "metadata": {},
     "output_type": "display_data"
    }
   ],
   "source": [
    "sns.boxplot(x=\"rating\", y=\"AROMA\", data=df)"
   ]
  },
  {
   "cell_type": "markdown",
   "id": "508e05e4",
   "metadata": {},
   "source": [
    "### 75 % of perfume with good rating had more than 20 % ingredients of type Aroma, Though approx 75 % of perfume with bad rating had less than 20 % ingredients of type Aroma."
   ]
  },
  {
   "cell_type": "markdown",
   "id": "17f5171b",
   "metadata": {},
   "source": [
    "### FIXATIVE "
   ]
  },
  {
   "cell_type": "code",
   "execution_count": 31,
   "id": "ad1db670",
   "metadata": {},
   "outputs": [
    {
     "data": {
      "text/plain": [
       "<AxesSubplot:xlabel='rating', ylabel='FIXATIVE'>"
      ]
     },
     "execution_count": 31,
     "metadata": {},
     "output_type": "execute_result"
    },
    {
     "data": {
      "image/png": "[encoded data removed]",
      "text/plain": [
       "<Figure size 1000x500 with 1 Axes>"
      ]
     },
     "metadata": {},
     "output_type": "display_data"
    }
   ],
   "source": [
    "sns.boxplot(x=\"rating\", y=\"FIXATIVE\", data=df)"
   ]
  },
  {
   "cell_type": "markdown",
   "id": "27270de5",
   "metadata": {},
   "source": [
    "### There are very few products which are rated good with the ingredient type as FIXATIVE"
   ]
  },
  {
   "cell_type": "markdown",
   "id": "964145fe",
   "metadata": {},
   "source": [
    "### SOLVENT"
   ]
  },
  {
   "cell_type": "code",
   "execution_count": 32,
   "id": "02858b93",
   "metadata": {},
   "outputs": [
    {
     "data": {
      "text/plain": [
       "<AxesSubplot:>"
      ]
     },
     "execution_count": 32,
     "metadata": {},
     "output_type": "execute_result"
    },
    {
     "data": {
      "image/png": "[encoded data removed]",
      "text/plain": [
       "<Figure size 800x400 with 1 Axes>"
      ]
     },
     "metadata": {},
     "output_type": "display_data"
    }
   ],
   "source": [
    "fig=plt.figure(figsize=(8,4))\n",
    "ax=fig.gca()\n",
    "df['SOLVENT'].hist(ax=ax)"
   ]
  },
  {
   "cell_type": "code",
   "execution_count": 33,
   "id": "aa6cbdc5",
   "metadata": {},
   "outputs": [
    {
     "data": {
      "text/plain": [
       "<AxesSubplot:xlabel='rating', ylabel='SOLVENT'>"
      ]
     },
     "execution_count": 33,
     "metadata": {},
     "output_type": "execute_result"
    },
    {
     "data": {
      "image/png": "[encoded data removed]",
      "text/plain": [
       "<Figure size 1000x500 with 1 Axes>"
      ]
     },
     "metadata": {},
     "output_type": "display_data"
    }
   ],
   "source": [
    "sns.boxplot(x=\"rating\", y=\"SOLVENT\", data=df)"
   ]
  },
  {
   "cell_type": "markdown",
   "id": "ee8464ce",
   "metadata": {},
   "source": [
    "### For a good rated perfume, approx 60 % of ingredients will be solvent type."
   ]
  },
  {
   "cell_type": "markdown",
   "id": "c74fbc37",
   "metadata": {},
   "source": [
    "### No Of Ingredients"
   ]
  },
  {
   "cell_type": "code",
   "execution_count": 34,
   "id": "ee17c7f0",
   "metadata": {},
   "outputs": [
    {
     "data": {
      "text/plain": [
       "<AxesSubplot:>"
      ]
     },
     "execution_count": 34,
     "metadata": {},
     "output_type": "execute_result"
    },
    {
     "data": {
      "image/png": "[encoded data removed]",
      "text/plain": [
       "<Figure size 800x400 with 1 Axes>"
      ]
     },
     "metadata": {},
     "output_type": "display_data"
    }
   ],
   "source": [
    "fig=plt.figure(figsize=(8,4))\n",
    "ax=fig.gca()\n",
    "df['no_of_ingredients'].hist(bins=10,ax=ax)"
   ]
  },
  {
   "cell_type": "code",
   "execution_count": 35,
   "id": "3b81c8cf",
   "metadata": {},
   "outputs": [
    {
     "data": {
      "text/plain": [
       "<AxesSubplot:xlabel='rating', ylabel='no_of_ingredients'>"
      ]
     },
     "execution_count": 35,
     "metadata": {},
     "output_type": "execute_result"
    },
    {
     "data": {
      "image/png": "[encoded data removed]",
      "text/plain": [
       "<Figure size 1000x500 with 1 Axes>"
      ]
     },
     "metadata": {},
     "output_type": "display_data"
    }
   ],
   "source": [
    "sns.boxplot(x=\"rating\", y=\"no_of_ingredients\", data=df)"
   ]
  },
  {
   "cell_type": "markdown",
   "id": "a511a5a8",
   "metadata": {},
   "source": [
    "### Simple perfumes with less no of (<10) ingredients are prefereed by customers."
   ]
  },
  {
   "cell_type": "markdown",
   "id": "5135f177",
   "metadata": {},
   "source": [
    "# Categrical Features"
   ]
  },
  {
   "cell_type": "markdown",
   "id": "31d298d8",
   "metadata": {},
   "source": [
    "## Perfume Base"
   ]
  },
  {
   "cell_type": "code",
   "execution_count": 36,
   "id": "140bd40b",
   "metadata": {},
   "outputs": [
    {
     "data": {
      "text/plain": [
       "<seaborn.axisgrid.FacetGrid at 0x219db378be0>"
      ]
     },
     "execution_count": 36,
     "metadata": {},
     "output_type": "execute_result"
    },
    {
     "data": {
      "image/png": "[encoded data removed]",
      "text/plain": [
       "<Figure size 650x400 with 1 Axes>"
      ]
     },
     "metadata": {},
     "output_type": "display_data"
    }
   ],
   "source": [
    "sns.catplot(x=\"perfume_base\",kind='count', data=df,height=4,aspect=6.5/4)"
   ]
  },
  {
   "cell_type": "code",
   "execution_count": 37,
   "id": "0c63c43c",
   "metadata": {},
   "outputs": [
    {
     "data": {
      "text/plain": [
       "<AxesSubplot:xlabel='perfume_base'>"
      ]
     },
     "execution_count": 37,
     "metadata": {},
     "output_type": "execute_result"
    },
    {
     "data": {
      "image/png": "[encoded data removed]",
      "text/plain": [
       "<Figure size 800x400 with 1 Axes>"
      ]
     },
     "metadata": {},
     "output_type": "display_data"
    }
   ],
   "source": [
    "cross_tab=pd.crosstab(index=df['perfume_base'],columns=df['rating'],normalize='index')\n",
    "\n",
    "cross_tab.plot(kind='bar',stacked=True,figsize=(8,4))"
   ]
  },
  {
   "cell_type": "markdown",
   "id": "71a3adce",
   "metadata": {},
   "source": [
    "### Higher Percentage of Oil based perfumes are prefered the most by people followed by Water and then Alcohol based."
   ]
  },
  {
   "cell_type": "markdown",
   "id": "f71a92e8",
   "metadata": {},
   "source": [
    "## fragrance"
   ]
  },
  {
   "cell_type": "code",
   "execution_count": 38,
   "id": "3286b595",
   "metadata": {},
   "outputs": [
    {
     "data": {
      "text/plain": [
       "<seaborn.axisgrid.FacetGrid at 0x219d930f3d0>"
      ]
     },
     "execution_count": 38,
     "metadata": {},
     "output_type": "execute_result"
    },
    {
     "data": {
      "image/png": "[encoded data removed]",
      "text/plain": [
       "<Figure size 650x400 with 1 Axes>"
      ]
     },
     "metadata": {},
     "output_type": "display_data"
    }
   ],
   "source": [
    "sns.catplot(x=\"fragrance\",kind='count', data=df,height=4,aspect=6.5/4)"
   ]
  },
  {
   "cell_type": "code",
   "execution_count": 39,
   "id": "bf834d17",
   "metadata": {},
   "outputs": [
    {
     "data": {
      "text/plain": [
       "<AxesSubplot:xlabel='fragrance'>"
      ]
     },
     "execution_count": 39,
     "metadata": {},
     "output_type": "execute_result"
    },
    {
     "data": {
      "image/png": "[encoded data removed]",
      "text/plain": [
       "<Figure size 800x400 with 1 Axes>"
      ]
     },
     "metadata": {},
     "output_type": "display_data"
    }
   ],
   "source": [
    "cross_tab=pd.crosstab(index=df['fragrance'],columns=df['rating'],normalize='index')\n",
    "\n",
    "cross_tab.plot(kind='bar',stacked=True,figsize=(8,4))"
   ]
  },
  {
   "cell_type": "markdown",
   "id": "b821e28c",
   "metadata": {},
   "source": [
    "### Perople are preferring the Oriental fragnance way more than other fragnances available. Its followed by FRESH, FLOARAL and lastly WOODY."
   ]
  },
  {
   "cell_type": "markdown",
   "id": "0f626bf8",
   "metadata": {},
   "source": [
    "## Manufacture Plant"
   ]
  },
  {
   "cell_type": "code",
   "execution_count": 40,
   "id": "19dd9b1e",
   "metadata": {},
   "outputs": [
    {
     "data": {
      "text/plain": [
       "<seaborn.axisgrid.FacetGrid at 0x219dcbddd30>"
      ]
     },
     "execution_count": 40,
     "metadata": {},
     "output_type": "execute_result"
    },
    {
     "data": {
      "image/png": "[encoded data removed]",
      "text/plain": [
       "<Figure size 450x300 with 1 Axes>"
      ]
     },
     "metadata": {},
     "output_type": "display_data"
    }
   ],
   "source": [
    "sns.catplot(x=\"manufacture_plant\",kind='count', data=df,height=3,aspect=6/4)"
   ]
  },
  {
   "cell_type": "code",
   "execution_count": 41,
   "id": "acc58302",
   "metadata": {},
   "outputs": [
    {
     "data": {
      "text/plain": [
       "<AxesSubplot:xlabel='manufacture_plant'>"
      ]
     },
     "execution_count": 41,
     "metadata": {},
     "output_type": "execute_result"
    },
    {
     "data": {
      "image/png": "[encoded data removed]",
      "text/plain": [
       "<Figure size 800x400 with 1 Axes>"
      ]
     },
     "metadata": {},
     "output_type": "display_data"
    }
   ],
   "source": [
    "cross_tab=pd.crosstab(index=df['manufacture_plant'],columns=df['rating'],normalize='index')\n",
    "\n",
    "cross_tab.plot(kind='bar',stacked=True,figsize=(8,4))"
   ]
  },
  {
   "cell_type": "markdown",
   "id": "bc351a45",
   "metadata": {},
   "source": [
    "### The Most loved perfume were manufactured in Plant A."
   ]
  },
  {
   "cell_type": "markdown",
   "id": "b5c9f11e",
   "metadata": {},
   "source": [
    "# Modelling"
   ]
  },
  {
   "cell_type": "markdown",
   "id": "52dc5951",
   "metadata": {},
   "source": [
    "## 1. Logistic Regression"
   ]
  },
  {
   "cell_type": "markdown",
   "id": "2a0b785f",
   "metadata": {},
   "source": [
    "## It Involves Preprocessing and then Modelling"
   ]
  },
  {
   "cell_type": "code",
   "execution_count": 42,
   "id": "f1c73175",
   "metadata": {},
   "outputs": [
    {
     "data": {
      "text/html": [
       "<div>\n",
       "<style scoped>\n",
       "    .dataframe tbody tr th:only-of-type {\n",
       "        vertical-align: middle;\n",
       "    }\n",
       "\n",
       "    .dataframe tbody tr th {\n",
       "        vertical-align: top;\n",
       "    }\n",
       "\n",
       "    .dataframe thead th {\n",
       "        text-align: right;\n",
       "    }\n",
       "</style>\n",
       "<table border=\"1\" class=\"dataframe\">\n",
       "  <thead>\n",
       "    <tr style=\"text-align: right;\">\n",
       "      <th>ingredient_type</th>\n",
       "      <th>sample_id</th>\n",
       "      <th>perfume_base</th>\n",
       "      <th>fragrance</th>\n",
       "      <th>manufacture_plant</th>\n",
       "      <th>manufacture_date</th>\n",
       "      <th>rating</th>\n",
       "      <th>AROMA</th>\n",
       "      <th>FIXATIVE</th>\n",
       "      <th>SOLVENT</th>\n",
       "      <th>no_of_ingredients</th>\n",
       "    </tr>\n",
       "  </thead>\n",
       "  <tbody>\n",
       "    <tr>\n",
       "      <th>0</th>\n",
       "      <td>A/260615/0</td>\n",
       "      <td>OIL</td>\n",
       "      <td>ORIENTAL</td>\n",
       "      <td>A</td>\n",
       "      <td>06/03/2020 4:19</td>\n",
       "      <td>0</td>\n",
       "      <td>0.166667</td>\n",
       "      <td>0.000000</td>\n",
       "      <td>0.833333</td>\n",
       "      <td>6</td>\n",
       "    </tr>\n",
       "    <tr>\n",
       "      <th>1</th>\n",
       "      <td>A/260617/0</td>\n",
       "      <td>OIL</td>\n",
       "      <td>ORIENTAL</td>\n",
       "      <td>A</td>\n",
       "      <td>06/03/2020 4:22</td>\n",
       "      <td>0</td>\n",
       "      <td>0.166667</td>\n",
       "      <td>0.000000</td>\n",
       "      <td>0.833333</td>\n",
       "      <td>6</td>\n",
       "    </tr>\n",
       "    <tr>\n",
       "      <th>2</th>\n",
       "      <td>A/260646/0</td>\n",
       "      <td>WATER</td>\n",
       "      <td>WOODY</td>\n",
       "      <td>A</td>\n",
       "      <td>06/03/2020 5:02</td>\n",
       "      <td>0</td>\n",
       "      <td>0.076923</td>\n",
       "      <td>0.384615</td>\n",
       "      <td>0.538462</td>\n",
       "      <td>13</td>\n",
       "    </tr>\n",
       "    <tr>\n",
       "      <th>3</th>\n",
       "      <td>A/260655/0</td>\n",
       "      <td>WATER</td>\n",
       "      <td>WOODY</td>\n",
       "      <td>A</td>\n",
       "      <td>06/03/2020 5:09</td>\n",
       "      <td>0</td>\n",
       "      <td>0.076923</td>\n",
       "      <td>0.384615</td>\n",
       "      <td>0.538462</td>\n",
       "      <td>13</td>\n",
       "    </tr>\n",
       "    <tr>\n",
       "      <th>4</th>\n",
       "      <td>A/261787/0</td>\n",
       "      <td>WATER</td>\n",
       "      <td>WOODY</td>\n",
       "      <td>A</td>\n",
       "      <td>10/03/2020 7:42</td>\n",
       "      <td>0</td>\n",
       "      <td>0.062500</td>\n",
       "      <td>0.437500</td>\n",
       "      <td>0.500000</td>\n",
       "      <td>16</td>\n",
       "    </tr>\n",
       "    <tr>\n",
       "      <th>...</th>\n",
       "      <td>...</td>\n",
       "      <td>...</td>\n",
       "      <td>...</td>\n",
       "      <td>...</td>\n",
       "      <td>...</td>\n",
       "      <td>...</td>\n",
       "      <td>...</td>\n",
       "      <td>...</td>\n",
       "      <td>...</td>\n",
       "      <td>...</td>\n",
       "    </tr>\n",
       "    <tr>\n",
       "      <th>803</th>\n",
       "      <td>B/449588/0</td>\n",
       "      <td>OIL</td>\n",
       "      <td>FRESH</td>\n",
       "      <td>B</td>\n",
       "      <td>23/02/2021 8:06</td>\n",
       "      <td>0</td>\n",
       "      <td>0.142857</td>\n",
       "      <td>0.500000</td>\n",
       "      <td>0.357143</td>\n",
       "      <td>14</td>\n",
       "    </tr>\n",
       "    <tr>\n",
       "      <th>804</th>\n",
       "      <td>B/450082/0</td>\n",
       "      <td>OIL</td>\n",
       "      <td>FRESH</td>\n",
       "      <td>B</td>\n",
       "      <td>23/02/2021 17:59</td>\n",
       "      <td>0</td>\n",
       "      <td>0.142857</td>\n",
       "      <td>0.500000</td>\n",
       "      <td>0.357143</td>\n",
       "      <td>14</td>\n",
       "    </tr>\n",
       "    <tr>\n",
       "      <th>805</th>\n",
       "      <td>B/451633/0</td>\n",
       "      <td>WATER</td>\n",
       "      <td>FRESH</td>\n",
       "      <td>B</td>\n",
       "      <td>25/02/2021 12:00</td>\n",
       "      <td>0</td>\n",
       "      <td>0.500000</td>\n",
       "      <td>0.000000</td>\n",
       "      <td>0.500000</td>\n",
       "      <td>2</td>\n",
       "    </tr>\n",
       "    <tr>\n",
       "      <th>806</th>\n",
       "      <td>B/451954/0</td>\n",
       "      <td>OIL</td>\n",
       "      <td>FRESH</td>\n",
       "      <td>B</td>\n",
       "      <td>25/02/2021 21:49</td>\n",
       "      <td>0</td>\n",
       "      <td>0.142857</td>\n",
       "      <td>0.500000</td>\n",
       "      <td>0.357143</td>\n",
       "      <td>14</td>\n",
       "    </tr>\n",
       "    <tr>\n",
       "      <th>807</th>\n",
       "      <td>B/453642/0</td>\n",
       "      <td>ALCOHOL</td>\n",
       "      <td>FLORAL</td>\n",
       "      <td>B</td>\n",
       "      <td>28/02/2021 7:11</td>\n",
       "      <td>0</td>\n",
       "      <td>0.076923</td>\n",
       "      <td>0.538462</td>\n",
       "      <td>0.384615</td>\n",
       "      <td>13</td>\n",
       "    </tr>\n",
       "  </tbody>\n",
       "</table>\n",
       "<p>808 rows × 10 columns</p>\n",
       "</div>"
      ],
      "text/plain": [
       "ingredient_type   sample_id perfume_base fragrance manufacture_plant  \\\n",
       "0                A/260615/0          OIL  ORIENTAL                 A   \n",
       "1                A/260617/0          OIL  ORIENTAL                 A   \n",
       "2                A/260646/0        WATER     WOODY                 A   \n",
       "3                A/260655/0        WATER     WOODY                 A   \n",
       "4                A/261787/0        WATER     WOODY                 A   \n",
       "..                      ...          ...       ...               ...   \n",
       "803              B/449588/0          OIL     FRESH                 B   \n",
       "804              B/450082/0          OIL     FRESH                 B   \n",
       "805              B/451633/0        WATER     FRESH                 B   \n",
       "806              B/451954/0          OIL     FRESH                 B   \n",
       "807              B/453642/0      ALCOHOL    FLORAL                 B   \n",
       "\n",
       "ingredient_type  manufacture_date  rating     AROMA  FIXATIVE   SOLVENT  \\\n",
       "0                 06/03/2020 4:19       0  0.166667  0.000000  0.833333   \n",
       "1                 06/03/2020 4:22       0  0.166667  0.000000  0.833333   \n",
       "2                 06/03/2020 5:02       0  0.076923  0.384615  0.538462   \n",
       "3                 06/03/2020 5:09       0  0.076923  0.384615  0.538462   \n",
       "4                 10/03/2020 7:42       0  0.062500  0.437500  0.500000   \n",
       "..                            ...     ...       ...       ...       ...   \n",
       "803               23/02/2021 8:06       0  0.142857  0.500000  0.357143   \n",
       "804              23/02/2021 17:59       0  0.142857  0.500000  0.357143   \n",
       "805              25/02/2021 12:00       0  0.500000  0.000000  0.500000   \n",
       "806              25/02/2021 21:49       0  0.142857  0.500000  0.357143   \n",
       "807               28/02/2021 7:11       0  0.076923  0.538462  0.384615   \n",
       "\n",
       "ingredient_type  no_of_ingredients  \n",
       "0                                6  \n",
       "1                                6  \n",
       "2                               13  \n",
       "3                               13  \n",
       "4                               16  \n",
       "..                             ...  \n",
       "803                             14  \n",
       "804                             14  \n",
       "805                              2  \n",
       "806                             14  \n",
       "807                             13  \n",
       "\n",
       "[808 rows x 10 columns]"
      ]
     },
     "execution_count": 42,
     "metadata": {},
     "output_type": "execute_result"
    }
   ],
   "source": [
    "df"
   ]
  },
  {
   "cell_type": "code",
   "execution_count": 43,
   "id": "e3f9d6a8",
   "metadata": {},
   "outputs": [
    {
     "data": {
      "text/plain": [
       "Index(['sample_id', 'perfume_base', 'fragrance', 'manufacture_plant',\n",
       "       'manufacture_date', 'rating', 'AROMA', 'FIXATIVE', 'SOLVENT',\n",
       "       'no_of_ingredients'],\n",
       "      dtype='object', name='ingredient_type')"
      ]
     },
     "execution_count": 43,
     "metadata": {},
     "output_type": "execute_result"
    }
   ],
   "source": [
    "df.columns"
   ]
  },
  {
   "cell_type": "code",
   "execution_count": 68,
   "id": "06df756f",
   "metadata": {},
   "outputs": [
    {
     "data": {
      "text/plain": [
       "(808, 10)"
      ]
     },
     "execution_count": 68,
     "metadata": {},
     "output_type": "execute_result"
    }
   ],
   "source": [
    "df.shape"
   ]
  },
  {
   "cell_type": "code",
   "execution_count": 44,
   "id": "632be223",
   "metadata": {},
   "outputs": [
    {
     "name": "stdout",
     "output_type": "stream",
     "text": [
      "Model score: 0.9646017699115044\n"
     ]
    },
    {
     "name": "stderr",
     "output_type": "stream",
     "text": [
      "C:\\Users\\mdnaiya\\AppData\\Roaming\\Python\\Python39\\site-packages\\sklearn\\utils\\validation.py:993: DataConversionWarning: A column-vector y was passed when a 1d array was expected. Please change the shape of y to (n_samples, ), for example using ravel().\n",
      "  y = column_or_1d(y, warn=True)\n"
     ]
    }
   ],
   "source": [
    "from sklearn.pipeline import Pipeline\n",
    "from sklearn.preprocessing import OneHotEncoder\n",
    "from sklearn.compose import ColumnTransformer\n",
    "from sklearn.feature_extraction.text import CountVectorizer\n",
    "\n",
    "categorical_transformer = Pipeline([('one_hot', OneHotEncoder(handle_unknown=\"ignore\"))])\n",
    "preprocessor = ColumnTransformer(transformers=[(\"cat\", categorical_transformer, categorical_features)])\n",
    "\n",
    "# Append classifier to preprocessing pipeline.\n",
    "# Now we have a full prediction pipeline.\n",
    "clf = Pipeline(steps=[(\"preprocessor\", preprocessor), (\"lr_classifier\", LogisticRegression(max_iter=100))])\n",
    "\n",
    "X_train, X_test, y_train, y_test = train_test_split(df[numeric_features+categorical_features], df[[target]]\n",
    "                                                    , test_size=0.30, random_state=34,stratify=df[target])\n",
    "\n",
    "\n",
    "clf.fit(X_train, y_train)\n",
    "print(f\"Model score: {clf.score(X_train, y_train)}\")"
   ]
  },
  {
   "cell_type": "code",
   "execution_count": 69,
   "id": "138ad5f8",
   "metadata": {},
   "outputs": [
    {
     "data": {
      "text/plain": [
       "(565, 7)"
      ]
     },
     "execution_count": 69,
     "metadata": {},
     "output_type": "execute_result"
    }
   ],
   "source": [
    "X_train.shape\n",
    "# , X_test, y_train, y_test"
   ]
  },
  {
   "cell_type": "code",
   "execution_count": 45,
   "id": "0bfbd7d4",
   "metadata": {},
   "outputs": [
    {
     "name": "stdout",
     "output_type": "stream",
     "text": [
      "Accuracy of logistic regression classifier on test set: 0.9629629629629629\n"
     ]
    }
   ],
   "source": [
    "y_pred = clf.predict(X_test)\n",
    "print(f\"Accuracy of logistic regression classifier on test set: {clf.score(X_test, y_test)}\")"
   ]
  },
  {
   "cell_type": "code",
   "execution_count": 46,
   "id": "d9f3e8b9",
   "metadata": {},
   "outputs": [
    {
     "name": "stdout",
     "output_type": "stream",
     "text": [
      "[[234   0]\n",
      " [  9   0]]\n"
     ]
    }
   ],
   "source": [
    "from sklearn.metrics import confusion_matrix\n",
    "confusion_matrix = confusion_matrix(y_test, y_pred)\n",
    "print(confusion_matrix)"
   ]
  },
  {
   "cell_type": "code",
   "execution_count": 47,
   "id": "2d3b4edb",
   "metadata": {},
   "outputs": [
    {
     "name": "stdout",
     "output_type": "stream",
     "text": [
      "              precision    recall  f1-score   support\n",
      "\n",
      "           0       0.96      1.00      0.98       234\n",
      "           1       0.00      0.00      0.00         9\n",
      "\n",
      "    accuracy                           0.96       243\n",
      "   macro avg       0.48      0.50      0.49       243\n",
      "weighted avg       0.93      0.96      0.94       243\n",
      "\n"
     ]
    },
    {
     "name": "stderr",
     "output_type": "stream",
     "text": [
      "C:\\Users\\mdnaiya\\AppData\\Roaming\\Python\\Python39\\site-packages\\sklearn\\metrics\\_classification.py:1318: UndefinedMetricWarning: Precision and F-score are ill-defined and being set to 0.0 in labels with no predicted samples. Use `zero_division` parameter to control this behavior.\n",
      "  _warn_prf(average, modifier, msg_start, len(result))\n",
      "C:\\Users\\mdnaiya\\AppData\\Roaming\\Python\\Python39\\site-packages\\sklearn\\metrics\\_classification.py:1318: UndefinedMetricWarning: Precision and F-score are ill-defined and being set to 0.0 in labels with no predicted samples. Use `zero_division` parameter to control this behavior.\n",
      "  _warn_prf(average, modifier, msg_start, len(result))\n",
      "C:\\Users\\mdnaiya\\AppData\\Roaming\\Python\\Python39\\site-packages\\sklearn\\metrics\\_classification.py:1318: UndefinedMetricWarning: Precision and F-score are ill-defined and being set to 0.0 in labels with no predicted samples. Use `zero_division` parameter to control this behavior.\n",
      "  _warn_prf(average, modifier, msg_start, len(result))\n"
     ]
    }
   ],
   "source": [
    "from sklearn.metrics import classification_report\n",
    "print(classification_report(y_test, y_pred))"
   ]
  },
  {
   "cell_type": "code",
   "execution_count": 48,
   "id": "1ad26713",
   "metadata": {},
   "outputs": [
    {
     "data": {
      "image/png": "[encoded data removed]",
      "text/plain": [
       "<Figure size 1000x500 with 1 Axes>"
      ]
     },
     "metadata": {},
     "output_type": "display_data"
    }
   ],
   "source": [
    "logit_roc_auc = roc_auc_score(y_test, clf.predict(X_test))\n",
    "fpr, tpr, thresholds = roc_curve(y_test, clf.predict_proba(X_test)[:,1])\n",
    "plt.figure()\n",
    "plt.plot(fpr, tpr, label='Logistic Regression (area = %0.2f)' % logit_roc_auc)\n",
    "plt.plot([0, 1], [0, 1],'r--')\n",
    "plt.xlim([0.0, 1.0])\n",
    "plt.ylim([0.0, 1.05])\n",
    "plt.xlabel('False Positive Rate')\n",
    "plt.ylabel('True Positive Rate')\n",
    "plt.title('Receiver operating characteristic')\n",
    "plt.legend(loc=\"lower right\")\n",
    "plt.savefig('Log_ROC')\n",
    "plt.show()"
   ]
  },
  {
   "cell_type": "markdown",
   "id": "c82d3e65",
   "metadata": {},
   "source": [
    "# PDP Plots\n",
    "\n",
    "## Numerical Features"
   ]
  },
  {
   "cell_type": "markdown",
   "id": "55554671",
   "metadata": {},
   "source": [
    "### AROMA"
   ]
  },
  {
   "cell_type": "code",
   "execution_count": 49,
   "id": "5e93bfc0",
   "metadata": {},
   "outputs": [
    {
     "name": "stderr",
     "output_type": "stream",
     "text": [
      "C:\\Users\\mdnaiya\\AppData\\Roaming\\Python\\Python39\\site-packages\\sklearn\\inspection\\_plot\\partial_dependence.py:1110: UserWarning: Attempting to set identical bottom == top == 0.03539893812740217 results in singular transformations; automatically expanding.\n",
      "  ax.set_ylim(self.pdp_lim[1])\n"
     ]
    },
    {
     "data": {
      "text/plain": [
       "<sklearn.inspection._plot.partial_dependence.PartialDependenceDisplay at 0x219dd3923d0>"
      ]
     },
     "execution_count": 49,
     "metadata": {},
     "output_type": "execute_result"
    },
    {
     "data": {
      "image/png": "[encoded data removed]",
      "text/plain": [
       "<Figure size 800x300 with 2 Axes>"
      ]
     },
     "metadata": {},
     "output_type": "display_data"
    }
   ],
   "source": [
    "features_to_display=['AROMA']\n",
    "fig,ax=plt.subplots(figsize=(8,3))\n",
    "PartialDependenceDisplay.from_estimator(clf,\n",
    "                                            X=X_train,\n",
    "                                            features=features_to_display,\n",
    "                                            kind='average',\n",
    "                                            subsample=50,\n",
    "                                            n_jobs=3,\n",
    "                                            grid_resolution=20,\n",
    "                                            random_state=42,\n",
    "                                            ax=ax)"
   ]
  },
  {
   "cell_type": "markdown",
   "id": "bf4e1bdf",
   "metadata": {},
   "source": [
    "### Owing to less number of records we dont see much deviation through the graphs"
   ]
  },
  {
   "cell_type": "markdown",
   "id": "d43af558",
   "metadata": {},
   "source": [
    "## Categorical Features"
   ]
  },
  {
   "cell_type": "code",
   "execution_count": 50,
   "id": "1c669372",
   "metadata": {},
   "outputs": [],
   "source": [
    "def get_column_names_from_ColumnTransformer(column_transformer):    \n",
    "    col_name = []\n",
    "\n",
    "    for transformer_in_columns in column_transformer.transformers_[:-1]: #the last transformer is ColumnTransformer's 'remainder'\n",
    "        print('\\n\\ntransformer: ', transformer_in_columns[0])\n",
    "        \n",
    "        raw_col_name = list(transformer_in_columns[2])\n",
    "        \n",
    "        if isinstance(transformer_in_columns[1], Pipeline): \n",
    "            # if pipeline, get the last transformer\n",
    "            transformer = transformer_in_columns[1].steps[-1][1]\n",
    "        else:\n",
    "            transformer = transformer_in_columns[1]\n",
    "            \n",
    "        try:\n",
    "          if isinstance(transformer, OneHotEncoder):\n",
    "            names = list(transformer.get_feature_names(raw_col_name))\n",
    "            \n",
    "          elif isinstance(transformer, SimpleImputer) and transformer.add_indicator:\n",
    "            missing_indicator_indices = transformer.indicator_.features_\n",
    "            missing_indicators = [raw_col_name[idx] + '_missing_flag' for idx in missing_indicator_indices]\n",
    "\n",
    "            names = raw_col_name + missing_indicators\n",
    "            \n",
    "          else:\n",
    "            names = list(transformer.get_feature_names())\n",
    "          \n",
    "        except AttributeError as error:\n",
    "          names = raw_col_name\n",
    "        \n",
    "        print(names)    \n",
    "        \n",
    "        col_name.extend(names)\n",
    "            \n",
    "    return col_name"
   ]
  },
  {
   "cell_type": "code",
   "execution_count": 51,
   "id": "b9ece40a",
   "metadata": {},
   "outputs": [
    {
     "name": "stdout",
     "output_type": "stream",
     "text": [
      "\n",
      "\n",
      "transformer:  cat\n",
      "['perfume_base_ALCOHOL', 'perfume_base_OIL', 'perfume_base_WATER', 'fragrance_FLORAL', 'fragrance_FRESH', 'fragrance_ORIENTAL', 'fragrance_WOODY', 'manufacture_plant_A', 'manufacture_plant_B']\n"
     ]
    },
    {
     "name": "stderr",
     "output_type": "stream",
     "text": [
      "C:\\Users\\mdnaiya\\AppData\\Roaming\\Python\\Python39\\site-packages\\sklearn\\utils\\deprecation.py:87: FutureWarning: Function get_feature_names is deprecated; get_feature_names is deprecated in 1.0 and will be removed in 1.2. Please use get_feature_names_out instead.\n",
      "  warnings.warn(msg, category=FutureWarning)\n"
     ]
    }
   ],
   "source": [
    "# preprocessing\n",
    "preprocessor.fit_transform(X_train)\n",
    "X_test_transformed = preprocessor.transform(X_test)\n",
    "\n",
    "# building a valid DataFrame for pdpbox\n",
    "feature_names = get_column_names_from_ColumnTransformer(preprocessor)\n",
    "X_test_transformed_pd = pd.DataFrame(X_test_transformed, columns=feature_names)"
   ]
  },
  {
   "cell_type": "code",
   "execution_count": 70,
   "id": "cfc45df6",
   "metadata": {},
   "outputs": [
    {
     "data": {
      "text/html": [
       "<div>\n",
       "<style scoped>\n",
       "    .dataframe tbody tr th:only-of-type {\n",
       "        vertical-align: middle;\n",
       "    }\n",
       "\n",
       "    .dataframe tbody tr th {\n",
       "        vertical-align: top;\n",
       "    }\n",
       "\n",
       "    .dataframe thead th {\n",
       "        text-align: right;\n",
       "    }\n",
       "</style>\n",
       "<table border=\"1\" class=\"dataframe\">\n",
       "  <thead>\n",
       "    <tr style=\"text-align: right;\">\n",
       "      <th></th>\n",
       "      <th>perfume_base_ALCOHOL</th>\n",
       "      <th>perfume_base_OIL</th>\n",
       "      <th>perfume_base_WATER</th>\n",
       "      <th>fragrance_FLORAL</th>\n",
       "      <th>fragrance_FRESH</th>\n",
       "      <th>fragrance_ORIENTAL</th>\n",
       "      <th>fragrance_WOODY</th>\n",
       "      <th>manufacture_plant_A</th>\n",
       "      <th>manufacture_plant_B</th>\n",
       "    </tr>\n",
       "  </thead>\n",
       "  <tbody>\n",
       "    <tr>\n",
       "      <th>0</th>\n",
       "      <td>0.0</td>\n",
       "      <td>1.0</td>\n",
       "      <td>0.0</td>\n",
       "      <td>0.0</td>\n",
       "      <td>0.0</td>\n",
       "      <td>1.0</td>\n",
       "      <td>0.0</td>\n",
       "      <td>0.0</td>\n",
       "      <td>1.0</td>\n",
       "    </tr>\n",
       "    <tr>\n",
       "      <th>1</th>\n",
       "      <td>1.0</td>\n",
       "      <td>0.0</td>\n",
       "      <td>0.0</td>\n",
       "      <td>1.0</td>\n",
       "      <td>0.0</td>\n",
       "      <td>0.0</td>\n",
       "      <td>0.0</td>\n",
       "      <td>0.0</td>\n",
       "      <td>1.0</td>\n",
       "    </tr>\n",
       "    <tr>\n",
       "      <th>2</th>\n",
       "      <td>0.0</td>\n",
       "      <td>1.0</td>\n",
       "      <td>0.0</td>\n",
       "      <td>0.0</td>\n",
       "      <td>0.0</td>\n",
       "      <td>1.0</td>\n",
       "      <td>0.0</td>\n",
       "      <td>0.0</td>\n",
       "      <td>1.0</td>\n",
       "    </tr>\n",
       "    <tr>\n",
       "      <th>3</th>\n",
       "      <td>0.0</td>\n",
       "      <td>1.0</td>\n",
       "      <td>0.0</td>\n",
       "      <td>0.0</td>\n",
       "      <td>1.0</td>\n",
       "      <td>0.0</td>\n",
       "      <td>0.0</td>\n",
       "      <td>0.0</td>\n",
       "      <td>1.0</td>\n",
       "    </tr>\n",
       "    <tr>\n",
       "      <th>4</th>\n",
       "      <td>0.0</td>\n",
       "      <td>1.0</td>\n",
       "      <td>0.0</td>\n",
       "      <td>0.0</td>\n",
       "      <td>1.0</td>\n",
       "      <td>0.0</td>\n",
       "      <td>0.0</td>\n",
       "      <td>0.0</td>\n",
       "      <td>1.0</td>\n",
       "    </tr>\n",
       "    <tr>\n",
       "      <th>...</th>\n",
       "      <td>...</td>\n",
       "      <td>...</td>\n",
       "      <td>...</td>\n",
       "      <td>...</td>\n",
       "      <td>...</td>\n",
       "      <td>...</td>\n",
       "      <td>...</td>\n",
       "      <td>...</td>\n",
       "      <td>...</td>\n",
       "    </tr>\n",
       "    <tr>\n",
       "      <th>238</th>\n",
       "      <td>0.0</td>\n",
       "      <td>1.0</td>\n",
       "      <td>0.0</td>\n",
       "      <td>0.0</td>\n",
       "      <td>1.0</td>\n",
       "      <td>0.0</td>\n",
       "      <td>0.0</td>\n",
       "      <td>0.0</td>\n",
       "      <td>1.0</td>\n",
       "    </tr>\n",
       "    <tr>\n",
       "      <th>239</th>\n",
       "      <td>0.0</td>\n",
       "      <td>1.0</td>\n",
       "      <td>0.0</td>\n",
       "      <td>0.0</td>\n",
       "      <td>0.0</td>\n",
       "      <td>1.0</td>\n",
       "      <td>0.0</td>\n",
       "      <td>1.0</td>\n",
       "      <td>0.0</td>\n",
       "    </tr>\n",
       "    <tr>\n",
       "      <th>240</th>\n",
       "      <td>0.0</td>\n",
       "      <td>1.0</td>\n",
       "      <td>0.0</td>\n",
       "      <td>1.0</td>\n",
       "      <td>0.0</td>\n",
       "      <td>0.0</td>\n",
       "      <td>0.0</td>\n",
       "      <td>1.0</td>\n",
       "      <td>0.0</td>\n",
       "    </tr>\n",
       "    <tr>\n",
       "      <th>241</th>\n",
       "      <td>1.0</td>\n",
       "      <td>0.0</td>\n",
       "      <td>0.0</td>\n",
       "      <td>0.0</td>\n",
       "      <td>0.0</td>\n",
       "      <td>0.0</td>\n",
       "      <td>1.0</td>\n",
       "      <td>1.0</td>\n",
       "      <td>0.0</td>\n",
       "    </tr>\n",
       "    <tr>\n",
       "      <th>242</th>\n",
       "      <td>1.0</td>\n",
       "      <td>0.0</td>\n",
       "      <td>0.0</td>\n",
       "      <td>0.0</td>\n",
       "      <td>1.0</td>\n",
       "      <td>0.0</td>\n",
       "      <td>0.0</td>\n",
       "      <td>1.0</td>\n",
       "      <td>0.0</td>\n",
       "    </tr>\n",
       "  </tbody>\n",
       "</table>\n",
       "<p>243 rows × 9 columns</p>\n",
       "</div>"
      ],
      "text/plain": [
       "     perfume_base_ALCOHOL  perfume_base_OIL  perfume_base_WATER  \\\n",
       "0                     0.0               1.0                 0.0   \n",
       "1                     1.0               0.0                 0.0   \n",
       "2                     0.0               1.0                 0.0   \n",
       "3                     0.0               1.0                 0.0   \n",
       "4                     0.0               1.0                 0.0   \n",
       "..                    ...               ...                 ...   \n",
       "238                   0.0               1.0                 0.0   \n",
       "239                   0.0               1.0                 0.0   \n",
       "240                   0.0               1.0                 0.0   \n",
       "241                   1.0               0.0                 0.0   \n",
       "242                   1.0               0.0                 0.0   \n",
       "\n",
       "     fragrance_FLORAL  fragrance_FRESH  fragrance_ORIENTAL  fragrance_WOODY  \\\n",
       "0                 0.0              0.0                 1.0              0.0   \n",
       "1                 1.0              0.0                 0.0              0.0   \n",
       "2                 0.0              0.0                 1.0              0.0   \n",
       "3                 0.0              1.0                 0.0              0.0   \n",
       "4                 0.0              1.0                 0.0              0.0   \n",
       "..                ...              ...                 ...              ...   \n",
       "238               0.0              1.0                 0.0              0.0   \n",
       "239               0.0              0.0                 1.0              0.0   \n",
       "240               1.0              0.0                 0.0              0.0   \n",
       "241               0.0              0.0                 0.0              1.0   \n",
       "242               0.0              1.0                 0.0              0.0   \n",
       "\n",
       "     manufacture_plant_A  manufacture_plant_B  \n",
       "0                    0.0                  1.0  \n",
       "1                    0.0                  1.0  \n",
       "2                    0.0                  1.0  \n",
       "3                    0.0                  1.0  \n",
       "4                    0.0                  1.0  \n",
       "..                   ...                  ...  \n",
       "238                  0.0                  1.0  \n",
       "239                  1.0                  0.0  \n",
       "240                  1.0                  0.0  \n",
       "241                  1.0                  0.0  \n",
       "242                  1.0                  0.0  \n",
       "\n",
       "[243 rows x 9 columns]"
      ]
     },
     "execution_count": 70,
     "metadata": {},
     "output_type": "execute_result"
    }
   ],
   "source": [
    "X_test_transformed_pd"
   ]
  },
  {
   "cell_type": "markdown",
   "id": "db89fda3",
   "metadata": {},
   "source": [
    "## 2. Random Forest"
   ]
  },
  {
   "cell_type": "code",
   "execution_count": 55,
   "id": "652a55d7",
   "metadata": {},
   "outputs": [
    {
     "name": "stdout",
     "output_type": "stream",
     "text": [
      "model score: 0.9646017699115044\n"
     ]
    },
    {
     "name": "stderr",
     "output_type": "stream",
     "text": [
      "C:\\Users\\mdnaiya\\AppData\\Roaming\\Python\\Python39\\site-packages\\sklearn\\pipeline.py:394: DataConversionWarning: A column-vector y was passed when a 1d array was expected. Please change the shape of y to (n_samples,), for example using ravel().\n",
      "  self._final_estimator.fit(Xt, y, **fit_params_last_step)\n"
     ]
    }
   ],
   "source": [
    "random_forest = RandomForestClassifier(n_estimators=10, max_depth=3, random_state=10)\n",
    "\n",
    "# Append classifier to preprocessing pipeline.\n",
    "# Now we have a full prediction pipeline.\n",
    "rf = Pipeline(steps=[(\"preprocessor\", preprocessor), (\"rf_classifier\", random_forest)])\n",
    "\n",
    "rf.fit(X_train, y_train)\n",
    "print(f\"model score: {rf.score(X_train, y_train)}\")"
   ]
  },
  {
   "cell_type": "code",
   "execution_count": 56,
   "id": "c6bf3374",
   "metadata": {},
   "outputs": [
    {
     "name": "stdout",
     "output_type": "stream",
     "text": [
      "Accuracy of Random Forest regression classifier on test set:0.9629629629629629\n"
     ]
    }
   ],
   "source": [
    "y_pred = rf.predict(X_test)\n",
    "print(f\"Accuracy of Random Forest regression classifier on test set:{rf.score(X_test, y_test)}\")"
   ]
  },
  {
   "cell_type": "code",
   "execution_count": 57,
   "id": "e2297ccc",
   "metadata": {},
   "outputs": [
    {
     "name": "stdout",
     "output_type": "stream",
     "text": [
      "[[234   0]\n",
      " [  9   0]]\n"
     ]
    }
   ],
   "source": [
    "from sklearn.metrics import confusion_matrix\n",
    "confusion_matrix = confusion_matrix(y_test, y_pred)\n",
    "print(confusion_matrix)"
   ]
  },
  {
   "cell_type": "code",
   "execution_count": 58,
   "id": "7758baea",
   "metadata": {},
   "outputs": [
    {
     "name": "stdout",
     "output_type": "stream",
     "text": [
      "              precision    recall  f1-score   support\n",
      "\n",
      "           0       0.96      1.00      0.98       234\n",
      "           1       0.00      0.00      0.00         9\n",
      "\n",
      "    accuracy                           0.96       243\n",
      "   macro avg       0.48      0.50      0.49       243\n",
      "weighted avg       0.93      0.96      0.94       243\n",
      "\n"
     ]
    },
    {
     "name": "stderr",
     "output_type": "stream",
     "text": [
      "C:\\Users\\mdnaiya\\AppData\\Roaming\\Python\\Python39\\site-packages\\sklearn\\metrics\\_classification.py:1318: UndefinedMetricWarning: Precision and F-score are ill-defined and being set to 0.0 in labels with no predicted samples. Use `zero_division` parameter to control this behavior.\n",
      "  _warn_prf(average, modifier, msg_start, len(result))\n",
      "C:\\Users\\mdnaiya\\AppData\\Roaming\\Python\\Python39\\site-packages\\sklearn\\metrics\\_classification.py:1318: UndefinedMetricWarning: Precision and F-score are ill-defined and being set to 0.0 in labels with no predicted samples. Use `zero_division` parameter to control this behavior.\n",
      "  _warn_prf(average, modifier, msg_start, len(result))\n",
      "C:\\Users\\mdnaiya\\AppData\\Roaming\\Python\\Python39\\site-packages\\sklearn\\metrics\\_classification.py:1318: UndefinedMetricWarning: Precision and F-score are ill-defined and being set to 0.0 in labels with no predicted samples. Use `zero_division` parameter to control this behavior.\n",
      "  _warn_prf(average, modifier, msg_start, len(result))\n"
     ]
    }
   ],
   "source": [
    "from sklearn.metrics import classification_report\n",
    "print(classification_report(y_test, y_pred))"
   ]
  },
  {
   "cell_type": "code",
   "execution_count": 59,
   "id": "8ebf0bbd",
   "metadata": {},
   "outputs": [
    {
     "data": {
      "image/png": "[encoded data removed]",
      "text/plain": [
       "<Figure size 1000x500 with 1 Axes>"
      ]
     },
     "metadata": {},
     "output_type": "display_data"
    }
   ],
   "source": [
    "logit_roc_auc = roc_auc_score(y_test, rf.predict(X_test))\n",
    "fpr, tpr, thresholds = roc_curve(y_test, rf.predict_proba(X_test)[:,1])\n",
    "plt.figure()\n",
    "plt.plot(fpr, tpr, label='Logistic Regression (area = %0.2f)' % logit_roc_auc)\n",
    "plt.plot([0, 1], [0, 1],'r--')\n",
    "plt.xlim([0.0, 1.0])\n",
    "plt.ylim([0.0, 1.05])\n",
    "plt.xlabel('False Positive Rate')\n",
    "plt.ylabel('True Positive Rate')\n",
    "plt.title('Receiver operating characteristic')\n",
    "plt.legend(loc=\"lower right\")\n",
    "plt.savefig('Log_ROC')\n",
    "plt.show()"
   ]
  },
  {
   "cell_type": "markdown",
   "id": "b3f4c84e",
   "metadata": {},
   "source": [
    "## 3. GBM"
   ]
  },
  {
   "cell_type": "code",
   "execution_count": 60,
   "id": "e6cf19e9",
   "metadata": {},
   "outputs": [
    {
     "name": "stdout",
     "output_type": "stream",
     "text": [
      "model score: 0.9646017699115044\n"
     ]
    },
    {
     "name": "stderr",
     "output_type": "stream",
     "text": [
      "C:\\Users\\mdnaiya\\AppData\\Roaming\\Python\\Python39\\site-packages\\sklearn\\ensemble\\_gb.py:494: DataConversionWarning: A column-vector y was passed when a 1d array was expected. Please change the shape of y to (n_samples, ), for example using ravel().\n",
      "  y = column_or_1d(y, warn=True)\n"
     ]
    }
   ],
   "source": [
    "from sklearn.pipeline import Pipeline\n",
    "from sklearn.preprocessing import OneHotEncoder\n",
    "from sklearn.compose import ColumnTransformer\n",
    "from sklearn.feature_extraction.text import CountVectorizer\n",
    "\n",
    "# Append classifier to preprocessing pipeline.\n",
    "# Now we have a full prediction pipeline.\n",
    "\n",
    "gradient_boosting = GradientBoostingClassifier(n_estimators=10, max_depth=3, random_state=10)\n",
    "\n",
    "gb = Pipeline(steps=[(\"preprocessor\", preprocessor), (\"gbm_classifier\", gradient_boosting)])\n",
    "\n",
    "gb.fit(X_train, y_train)\n",
    "print(f\"model score: {gb.score(X_train, y_train)}\")"
   ]
  },
  {
   "cell_type": "code",
   "execution_count": 61,
   "id": "947b1f46",
   "metadata": {},
   "outputs": [
    {
     "name": "stdout",
     "output_type": "stream",
     "text": [
      "Accuracy of GBM regression classifier on test set:0.9629629629629629\n"
     ]
    }
   ],
   "source": [
    "y_pred = gb.predict(X_test)\n",
    "print(f\"Accuracy of GBM regression classifier on test set:{gb.score(X_test, y_test)}\")"
   ]
  },
  {
   "cell_type": "code",
   "execution_count": 62,
   "id": "6b33f5b9",
   "metadata": {},
   "outputs": [
    {
     "name": "stdout",
     "output_type": "stream",
     "text": [
      "[[234   0]\n",
      " [  9   0]]\n"
     ]
    }
   ],
   "source": [
    "from sklearn.metrics import confusion_matrix\n",
    "confusion_matrix = confusion_matrix(y_test, y_pred)\n",
    "print(confusion_matrix)"
   ]
  },
  {
   "cell_type": "code",
   "execution_count": 63,
   "id": "ae3e43f0",
   "metadata": {},
   "outputs": [
    {
     "name": "stdout",
     "output_type": "stream",
     "text": [
      "              precision    recall  f1-score   support\n",
      "\n",
      "           0       0.96      1.00      0.98       234\n",
      "           1       0.00      0.00      0.00         9\n",
      "\n",
      "    accuracy                           0.96       243\n",
      "   macro avg       0.48      0.50      0.49       243\n",
      "weighted avg       0.93      0.96      0.94       243\n",
      "\n"
     ]
    },
    {
     "name": "stderr",
     "output_type": "stream",
     "text": [
      "C:\\Users\\mdnaiya\\AppData\\Roaming\\Python\\Python39\\site-packages\\sklearn\\metrics\\_classification.py:1318: UndefinedMetricWarning: Precision and F-score are ill-defined and being set to 0.0 in labels with no predicted samples. Use `zero_division` parameter to control this behavior.\n",
      "  _warn_prf(average, modifier, msg_start, len(result))\n",
      "C:\\Users\\mdnaiya\\AppData\\Roaming\\Python\\Python39\\site-packages\\sklearn\\metrics\\_classification.py:1318: UndefinedMetricWarning: Precision and F-score are ill-defined and being set to 0.0 in labels with no predicted samples. Use `zero_division` parameter to control this behavior.\n",
      "  _warn_prf(average, modifier, msg_start, len(result))\n",
      "C:\\Users\\mdnaiya\\AppData\\Roaming\\Python\\Python39\\site-packages\\sklearn\\metrics\\_classification.py:1318: UndefinedMetricWarning: Precision and F-score are ill-defined and being set to 0.0 in labels with no predicted samples. Use `zero_division` parameter to control this behavior.\n",
      "  _warn_prf(average, modifier, msg_start, len(result))\n"
     ]
    }
   ],
   "source": [
    "from sklearn.metrics import classification_report\n",
    "print(classification_report(y_test, y_pred))"
   ]
  },
  {
   "cell_type": "code",
   "execution_count": 64,
   "id": "acd3596d",
   "metadata": {},
   "outputs": [
    {
     "data": {
      "image/png": "[encoded data removed]",
      "text/plain": [
       "<Figure size 1000x500 with 1 Axes>"
      ]
     },
     "metadata": {},
     "output_type": "display_data"
    }
   ],
   "source": [
    "logit_roc_auc = roc_auc_score(y_test, gb.predict(X_test))\n",
    "fpr, tpr, thresholds = roc_curve(y_test, gb.predict_proba(X_test)[:,1])\n",
    "plt.figure()\n",
    "plt.plot(fpr, tpr, label='Logistic Regression (area = %0.2f)' % logit_roc_auc)\n",
    "plt.plot([0, 1], [0, 1],'r--')\n",
    "plt.xlim([0.0, 1.0])\n",
    "plt.ylim([0.0, 1.05])\n",
    "plt.xlabel('False Positive Rate')\n",
    "plt.ylabel('True Positive Rate')\n",
    "plt.title('Receiver operating characteristic')\n",
    "plt.legend(loc=\"lower right\")\n",
    "plt.savefig('Log_ROC')\n",
    "plt.show()"
   ]
  },
  {
   "cell_type": "code",
   "execution_count": 65,
   "id": "ecddc396",
   "metadata": {},
   "outputs": [],
   "source": [
    "model=gb.named_steps['gbm_classifier']\n",
    "importances = model.feature_importances_"
   ]
  },
  {
   "cell_type": "markdown",
   "id": "817a9b67",
   "metadata": {},
   "source": [
    "### Feature Importance"
   ]
  },
  {
   "cell_type": "code",
   "execution_count": 66,
   "id": "78b3c69d",
   "metadata": {},
   "outputs": [
    {
     "data": {
      "image/png": "[encoded data removed]",
      "text/plain": [
       "<Figure size 1000x500 with 1 Axes>"
      ]
     },
     "metadata": {},
     "output_type": "display_data"
    }
   ],
   "source": [
    "indices = np.argsort(importances)\n",
    "\n",
    "fig, ax = plt.subplots()\n",
    "ax.barh(range(len(importances)), importances[indices])\n",
    "ax.set_yticks(range(len(importances)))\n",
    "_ = ax.set_yticklabels(np.array(gb.steps[0][1].get_feature_names_out())[indices])\n"
   ]
  },
  {
   "cell_type": "markdown",
   "id": "b86e5be0",
   "metadata": {},
   "source": [
    "## AUC Curve for all the Models."
   ]
  },
  {
   "cell_type": "code",
   "execution_count": 67,
   "id": "41d7dbfb",
   "metadata": {},
   "outputs": [
    {
     "data": {
      "image/png": "[encoded data removed]",
      "text/plain": [
       "<Figure size 1000x500 with 1 Axes>"
      ]
     },
     "metadata": {},
     "output_type": "display_data"
    }
   ],
   "source": [
    "import matplotlib.pyplot as plt\n",
    "from sklearn.metrics import RocCurveDisplay\n",
    "\n",
    "fig, ax = plt.subplots()\n",
    "\n",
    "models = [\n",
    "    (\"LR -> LR\", clf),\n",
    "    (\"Random Forest\", rf),\n",
    "    (\"GBM\", gb),\n",
    "]\n",
    "\n",
    "model_displays = {}\n",
    "for name, pipeline in models:\n",
    "    model_displays[name] = RocCurveDisplay.from_estimator(\n",
    "        pipeline, X_test, y_test, ax=ax, name=name\n",
    "    )\n",
    "_ = ax.set_title(\"ROC curve\")"
   ]
  }
 ],
 "metadata": {
  "kernelspec": {
   "display_name": "Python 3 (ipykernel)",
   "language": "python",
   "name": "python3"
  },
  "language_info": {
   "codemirror_mode": {
    "name": "ipython",
    "version": 3
   },
   "file_extension": ".py",
   "mimetype": "text/x-python",
   "name": "python",
   "nbconvert_exporter": "python",
   "pygments_lexer": "ipython3",
   "version": "3.9.7"
  }
 },
 "nbformat": 4,
 "nbformat_minor": 5
}
